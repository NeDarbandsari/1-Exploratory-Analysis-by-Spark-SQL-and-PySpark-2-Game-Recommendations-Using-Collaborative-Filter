{
 "cells": [
  {
   "cell_type": "code",
   "execution_count": 0,
   "metadata": {
    "application/vnd.databricks.v1+cell": {
     "cellMetadata": {
      "byteLimit": 2048000,
      "rowLimit": 10000
     },
     "inputWidgets": {},
     "nuid": "6e844fd0-374c-472a-8192-bd5c69376c29",
     "showTitle": false,
     "title": ""
    }
   },
   "outputs": [],
   "source": [
    "#˚•˚•˚•˚•˚•˚•˚•˚•˚•˚•˚•˚•˚•˚•˚•˚ TASK 1 ˚•˚•˚•˚•˚•˚•˚•˚•˚•˚•˚•˚•˚•˚•˚•˚#"
   ]
  },
  {
   "cell_type": "code",
   "execution_count": 0,
   "metadata": {
    "application/vnd.databricks.v1+cell": {
     "cellMetadata": {
      "byteLimit": 2048000,
      "rowLimit": 10000
     },
     "inputWidgets": {},
     "nuid": "face655a-95cb-43a8-a377-2df09eb283d8",
     "showTitle": false,
     "title": ""
    }
   },
   "outputs": [],
   "source": [
    "import os\n",
    "from pyspark.sql import Row\n",
    "from pyspark.sql.functions import col\n",
    "import matplotlib.pyplot as plt\n",
    "import csv"
   ]
  },
  {
   "cell_type": "code",
   "execution_count": 0,
   "metadata": {
    "application/vnd.databricks.v1+cell": {
     "cellMetadata": {
      "byteLimit": 2048000,
      "rowLimit": 10000
     },
     "inputWidgets": {},
     "nuid": "a2ae5ba6-c25b-468e-8cf3-db9d15eb9167",
     "showTitle": false,
     "title": ""
    }
   },
   "outputs": [
    {
     "output_type": "stream",
     "name": "stdout",
     "output_type": "stream",
     "text": [
      "Out[3]: [FileInfo(path='dbfs:/FileStore/tables/TS021_2021_2.csv', name='TS021_2021_2.csv', size=497239, modificationTime=1710945103000),\n FileInfo(path='dbfs:/FileStore/tables/_SUCCESS', name='_SUCCESS', size=0, modificationTime=1709905302000),\n FileInfo(path='dbfs:/FileStore/tables/account-models/', name='account-models/', size=0, modificationTime=0),\n FileInfo(path='dbfs:/FileStore/tables/accounts/', name='accounts/', size=0, modificationTime=0),\n FileInfo(path='dbfs:/FileStore/tables/activations/', name='activations/', size=0, modificationTime=0),\n FileInfo(path='dbfs:/FileStore/tables/clinicaltrial_2023', name='clinicaltrial_2023', size=292436366, modificationTime=1712167487000),\n FileInfo(path='dbfs:/FileStore/tables/clinicaltrial_2023.csv/', name='clinicaltrial_2023.csv/', size=0, modificationTime=0),\n FileInfo(path='dbfs:/FileStore/tables/clinicaltrial_2023.zip', name='clinicaltrial_2023.zip', size=57166668, modificationTime=1709905902000),\n FileInfo(path='dbfs:/FileStore/tables/clinicaltrial_pbi.csv/', name='clinicaltrial_pbi.csv/', size=0, modificationTime=0),\n FileInfo(path='dbfs:/FileStore/tables/games.csv', name='games.csv', size=143639, modificationTime=1710760368000),\n FileInfo(path='dbfs:/FileStore/tables/iotstream/', name='iotstream/', size=0, modificationTime=0),\n FileInfo(path='dbfs:/FileStore/tables/logs/', name='logs/', size=0, modificationTime=0),\n FileInfo(path='dbfs:/FileStore/tables/pharma', name='pharma', size=678999, modificationTime=1712167541000),\n FileInfo(path='dbfs:/FileStore/tables/pharma.zip', name='pharma.zip', size=109982, modificationTime=1709906261000),\n FileInfo(path='dbfs:/FileStore/tables/steam_200k.csv', name='steam_200k.csv', size=8059447, modificationTime=1710760370000),\n FileInfo(path='dbfs:/FileStore/tables/webpage/', name='webpage/', size=0, modificationTime=0),\n FileInfo(path='dbfs:/FileStore/tables/webpage_files_all/', name='webpage_files_all/', size=0, modificationTime=0),\n FileInfo(path='dbfs:/FileStore/tables/webpage_files_jpg/', name='webpage_files_jpg/', size=0, modificationTime=0)]"
     ]
    }
   ],
   "source": [
    "dbutils.fs.ls(\"/FileStore/tables/\")"
   ]
  },
  {
   "cell_type": "code",
   "execution_count": 0,
   "metadata": {
    "application/vnd.databricks.v1+cell": {
     "cellMetadata": {
      "byteLimit": 2048000,
      "rowLimit": 10000
     },
     "inputWidgets": {},
     "nuid": "8f644d60-f723-4171-903d-dd02c733956b",
     "showTitle": false,
     "title": ""
    }
   },
   "outputs": [
    {
     "output_type": "stream",
     "name": "stdout",
     "output_type": "stream",
     "text": [
      "Out[4]: True"
     ]
    }
   ],
   "source": [
    "FilePath=\"/FileStore/tables/clinicaltrial_2023\"\n",
    "dbutils.fs.cp(FilePath + \".zip\" ,\"file:/tmp/\")"
   ]
  },
  {
   "cell_type": "code",
   "execution_count": 0,
   "metadata": {
    "application/vnd.databricks.v1+cell": {
     "cellMetadata": {
      "byteLimit": 2048000,
      "rowLimit": 10000
     },
     "inputWidgets": {},
     "nuid": "fdfeb2a0-d87f-4f04-925c-8428f26059e5",
     "showTitle": false,
     "title": ""
    }
   },
   "outputs": [
    {
     "output_type": "display_data",
     "data": {
      "text/html": [
       "<style scoped>\n",
       "  .table-result-container {\n",
       "    max-height: 300px;\n",
       "    overflow: auto;\n",
       "  }\n",
       "  table, th, td {\n",
       "    border: 1px solid black;\n",
       "    border-collapse: collapse;\n",
       "  }\n",
       "  th, td {\n",
       "    padding: 5px;\n",
       "  }\n",
       "  th {\n",
       "    text-align: left;\n",
       "  }\n",
       "</style><div class='table-result-container'><table class='table-result'><thead style='background-color: white'><tr><th>path</th><th>name</th><th>size</th><th>modificationTime</th></tr></thead><tbody><tr><td>file:/tmp/hsperfdata_root/</td><td>hsperfdata_root/</td><td>4096</td><td>1712312453233</td></tr><tr><td>file:/tmp/tmp.fy6lI0GCK0</td><td>tmp.fy6lI0GCK0</td><td>0</td><td>1712312437485</td></tr><tr><td>file:/tmp/clinicaltrial_2023.zip</td><td>clinicaltrial_2023.zip</td><td>57166668</td><td>1712312546395</td></tr><tr><td>file:/tmp/systemd-private-deed753be29b4911bb0b4b386995d2b3-systemd-resolved.service-kM86th/</td><td>systemd-private-deed753be29b4911bb0b4b386995d2b3-systemd-resolved.service-kM86th/</td><td>4096</td><td>1712312428662</td></tr><tr><td>file:/tmp/.ICE-unix/</td><td>.ICE-unix/</td><td>4096</td><td>1712312428658</td></tr><tr><td>file:/tmp/chauffeur-env.sh</td><td>chauffeur-env.sh</td><td>156</td><td>1712312435693</td></tr><tr><td>file:/tmp/python_lsp_logs/</td><td>python_lsp_logs/</td><td>4096</td><td>1712312537932</td></tr><tr><td>file:/tmp/systemd-private-deed753be29b4911bb0b4b386995d2b3-apache2.service-GOxU7h/</td><td>systemd-private-deed753be29b4911bb0b4b386995d2b3-apache2.service-GOxU7h/</td><td>4096</td><td>1712312440517</td></tr><tr><td>file:/tmp/.font-unix/</td><td>.font-unix/</td><td>4096</td><td>1712312428658</td></tr><tr><td>file:/tmp/.XIM-unix/</td><td>.XIM-unix/</td><td>4096</td><td>1712312428658</td></tr><tr><td>file:/tmp/driver-daemon.pid</td><td>driver-daemon.pid</td><td>4</td><td>1712312453193</td></tr><tr><td>file:/tmp/Rserv/</td><td>Rserv/</td><td>4096</td><td>1712312544551</td></tr><tr><td>file:/tmp/systemd-private-deed753be29b4911bb0b4b386995d2b3-ntp.service-3HFK9f/</td><td>systemd-private-deed753be29b4911bb0b4b386995d2b3-ntp.service-3HFK9f/</td><td>4096</td><td>1712312428702</td></tr><tr><td>file:/tmp/custom-spark.conf</td><td>custom-spark.conf</td><td>726</td><td>1712312435757</td></tr><tr><td>file:/tmp/systemd-private-deed753be29b4911bb0b4b386995d2b3-systemd-logind.service-bEetNh/</td><td>systemd-private-deed753be29b4911bb0b4b386995d2b3-systemd-logind.service-bEetNh/</td><td>4096</td><td>1712312428746</td></tr><tr><td>file:/tmp/Rtmp0UaFRT/</td><td>Rtmp0UaFRT/</td><td>4096</td><td>1712312543159</td></tr><tr><td>file:/tmp/chauffeur-daemon-params</td><td>chauffeur-daemon-params</td><td>22</td><td>1712312437357</td></tr><tr><td>file:/tmp/driver-env.sh</td><td>driver-env.sh</td><td>3320</td><td>1712312450777</td></tr><tr><td>file:/tmp/chauffeur-daemon.pid</td><td>chauffeur-daemon.pid</td><td>4</td><td>1712312437517</td></tr><tr><td>file:/tmp/.X11-unix/</td><td>.X11-unix/</td><td>4096</td><td>1712312428658</td></tr><tr><td>file:/tmp/driver-daemon-params</td><td>driver-daemon-params</td><td>19</td><td>1712312453037</td></tr><tr><td>file:/tmp/.Test-unix/</td><td>.Test-unix/</td><td>4096</td><td>1712312428658</td></tr></tbody></table></div>"
      ]
     },
     "metadata": {
      "application/vnd.databricks.v1+output": {
       "addedWidgets": {},
       "aggData": [],
       "aggError": "",
       "aggOverflow": false,
       "aggSchema": [],
       "aggSeriesLimitReached": false,
       "aggType": "",
       "arguments": {},
       "columnCustomDisplayInfos": {},
       "data": [
        [
         "file:/tmp/hsperfdata_root/",
         "hsperfdata_root/",
         4096,
         1712312453233
        ],
        [
         "file:/tmp/tmp.fy6lI0GCK0",
         "tmp.fy6lI0GCK0",
         0,
         1712312437485
        ],
        [
         "file:/tmp/clinicaltrial_2023.zip",
         "clinicaltrial_2023.zip",
         57166668,
         1712312546395
        ],
        [
         "file:/tmp/systemd-private-deed753be29b4911bb0b4b386995d2b3-systemd-resolved.service-kM86th/",
         "systemd-private-deed753be29b4911bb0b4b386995d2b3-systemd-resolved.service-kM86th/",
         4096,
         1712312428662
        ],
        [
         "file:/tmp/.ICE-unix/",
         ".ICE-unix/",
         4096,
         1712312428658
        ],
        [
         "file:/tmp/chauffeur-env.sh",
         "chauffeur-env.sh",
         156,
         1712312435693
        ],
        [
         "file:/tmp/python_lsp_logs/",
         "python_lsp_logs/",
         4096,
         1712312537932
        ],
        [
         "file:/tmp/systemd-private-deed753be29b4911bb0b4b386995d2b3-apache2.service-GOxU7h/",
         "systemd-private-deed753be29b4911bb0b4b386995d2b3-apache2.service-GOxU7h/",
         4096,
         1712312440517
        ],
        [
         "file:/tmp/.font-unix/",
         ".font-unix/",
         4096,
         1712312428658
        ],
        [
         "file:/tmp/.XIM-unix/",
         ".XIM-unix/",
         4096,
         1712312428658
        ],
        [
         "file:/tmp/driver-daemon.pid",
         "driver-daemon.pid",
         4,
         1712312453193
        ],
        [
         "file:/tmp/Rserv/",
         "Rserv/",
         4096,
         1712312544551
        ],
        [
         "file:/tmp/systemd-private-deed753be29b4911bb0b4b386995d2b3-ntp.service-3HFK9f/",
         "systemd-private-deed753be29b4911bb0b4b386995d2b3-ntp.service-3HFK9f/",
         4096,
         1712312428702
        ],
        [
         "file:/tmp/custom-spark.conf",
         "custom-spark.conf",
         726,
         1712312435757
        ],
        [
         "file:/tmp/systemd-private-deed753be29b4911bb0b4b386995d2b3-systemd-logind.service-bEetNh/",
         "systemd-private-deed753be29b4911bb0b4b386995d2b3-systemd-logind.service-bEetNh/",
         4096,
         1712312428746
        ],
        [
         "file:/tmp/Rtmp0UaFRT/",
         "Rtmp0UaFRT/",
         4096,
         1712312543159
        ],
        [
         "file:/tmp/chauffeur-daemon-params",
         "chauffeur-daemon-params",
         22,
         1712312437357
        ],
        [
         "file:/tmp/driver-env.sh",
         "driver-env.sh",
         3320,
         1712312450777
        ],
        [
         "file:/tmp/chauffeur-daemon.pid",
         "chauffeur-daemon.pid",
         4,
         1712312437517
        ],
        [
         "file:/tmp/.X11-unix/",
         ".X11-unix/",
         4096,
         1712312428658
        ],
        [
         "file:/tmp/driver-daemon-params",
         "driver-daemon-params",
         19,
         1712312453037
        ],
        [
         "file:/tmp/.Test-unix/",
         ".Test-unix/",
         4096,
         1712312428658
        ]
       ],
       "datasetInfos": [],
       "dbfsResultPath": null,
       "isJsonSchema": true,
       "metadata": {
        "isDbfsCommandResult": false
       },
       "overflow": false,
       "plotOptions": {
        "customPlotOptions": {},
        "displayType": "table",
        "pivotAggregation": null,
        "pivotColumns": null,
        "xColumns": null,
        "yColumns": null
       },
       "removedWidgets": [],
       "schema": [
        {
         "metadata": "{}",
         "name": "path",
         "type": "\"string\""
        },
        {
         "metadata": "{}",
         "name": "name",
         "type": "\"string\""
        },
        {
         "metadata": "{}",
         "name": "size",
         "type": "\"long\""
        },
        {
         "metadata": "{}",
         "name": "modificationTime",
         "type": "\"long\""
        }
       ],
       "type": "table"
      }
     },
     "output_type": "display_data"
    }
   ],
   "source": [
    "%fs ls file:/tmp/"
   ]
  },
  {
   "cell_type": "code",
   "execution_count": 0,
   "metadata": {
    "application/vnd.databricks.v1+cell": {
     "cellMetadata": {
      "byteLimit": 2048000,
      "rowLimit": 10000
     },
     "inputWidgets": {},
     "nuid": "38802306-9dd9-4506-90bb-4be72e3dedce",
     "showTitle": false,
     "title": ""
    }
   },
   "outputs": [
    {
     "output_type": "stream",
     "name": "stdout",
     "output_type": "stream",
     "text": [
      "Rserv\nRtmp0UaFRT\nchauffeur-daemon-params\nchauffeur-daemon.pid\nchauffeur-env.sh\nclinicaltrial_2023.zip\ncustom-spark.conf\ndriver-daemon-params\ndriver-daemon.pid\ndriver-env.sh\nhsperfdata_root\npython_lsp_logs\nsystemd-private-deed753be29b4911bb0b4b386995d2b3-apache2.service-GOxU7h\nsystemd-private-deed753be29b4911bb0b4b386995d2b3-ntp.service-3HFK9f\nsystemd-private-deed753be29b4911bb0b4b386995d2b3-systemd-logind.service-bEetNh\nsystemd-private-deed753be29b4911bb0b4b386995d2b3-systemd-resolved.service-kM86th\ntmp.fy6lI0GCK0\n"
     ]
    }
   ],
   "source": [
    "%sh\n",
    "ls /tmp/"
   ]
  },
  {
   "cell_type": "code",
   "execution_count": 0,
   "metadata": {
    "application/vnd.databricks.v1+cell": {
     "cellMetadata": {
      "byteLimit": 2048000,
      "rowLimit": 10000
     },
     "inputWidgets": {},
     "nuid": "02f07789-15a2-4449-8241-e1b56ac1b42d",
     "showTitle": false,
     "title": ""
    }
   },
   "outputs": [
    {
     "output_type": "stream",
     "name": "stdout",
     "output_type": "stream",
     "text": [
      "Out[6]: True"
     ]
    }
   ],
   "source": [
    "fileroot=\"clinicaltrial_2023\"\n",
    "dbutils.fs.cp(\"/FileStore/tables/\"+ fileroot + \".zip\", \"file:/tmp/\")"
   ]
  },
  {
   "cell_type": "code",
   "execution_count": 0,
   "metadata": {
    "application/vnd.databricks.v1+cell": {
     "cellMetadata": {
      "byteLimit": 2048000,
      "rowLimit": 10000
     },
     "inputWidgets": {},
     "nuid": "0f5437a8-aa68-41c4-9ee5-d5e29f2601c3",
     "showTitle": false,
     "title": ""
    }
   },
   "outputs": [],
   "source": [
    "os.environ['fileroot']=fileroot"
   ]
  },
  {
   "cell_type": "code",
   "execution_count": 0,
   "metadata": {
    "application/vnd.databricks.v1+cell": {
     "cellMetadata": {
      "byteLimit": 2048000,
      "rowLimit": 10000
     },
     "inputWidgets": {},
     "nuid": "3b3348cf-b87f-46a8-926d-fad18698796a",
     "showTitle": false,
     "title": ""
    }
   },
   "outputs": [
    {
     "output_type": "stream",
     "name": "stdout",
     "output_type": "stream",
     "text": [
      "Archive:  /tmp/clinicaltrial_2023.zip\n  inflating: /tmp/clinicaltrial_2023.csv  \n"
     ]
    }
   ],
   "source": [
    "%sh\n",
    "unzip -d /tmp /tmp/${fileroot}.zip"
   ]
  },
  {
   "cell_type": "code",
   "execution_count": 0,
   "metadata": {
    "application/vnd.databricks.v1+cell": {
     "cellMetadata": {
      "byteLimit": 2048000,
      "rowLimit": 10000
     },
     "inputWidgets": {},
     "nuid": "1789fbe9-fac1-4075-8d86-7b8b2295ef91",
     "showTitle": false,
     "title": ""
    }
   },
   "outputs": [
    {
     "output_type": "stream",
     "name": "stdout",
     "output_type": "stream",
     "text": [
      "Out[9]: True"
     ]
    }
   ],
   "source": [
    "dbutils.fs.mv(\"file:/tmp/\" + fileroot + \".csv\", \"/FileStore/tables/\" + fileroot, True)"
   ]
  },
  {
   "cell_type": "code",
   "execution_count": 0,
   "metadata": {
    "application/vnd.databricks.v1+cell": {
     "cellMetadata": {
      "byteLimit": 2048000,
      "rowLimit": 10000
     },
     "inputWidgets": {},
     "nuid": "be7015c0-0a4d-43e8-bd65-e71b71abf140",
     "showTitle": false,
     "title": ""
    }
   },
   "outputs": [
    {
     "output_type": "stream",
     "name": "stdout",
     "output_type": "stream",
     "text": [
      "Out[10]: [FileInfo(path='dbfs:/FileStore/tables/clinicaltrial_2023', name='clinicaltrial_2023', size=292436366, modificationTime=1712312605000)]"
     ]
    }
   ],
   "source": [
    "dbutils.fs.ls(\"/FileStore/tables/\" + fileroot)"
   ]
  },
  {
   "cell_type": "code",
   "execution_count": 0,
   "metadata": {
    "application/vnd.databricks.v1+cell": {
     "cellMetadata": {
      "byteLimit": 2048000,
      "rowLimit": 10000
     },
     "inputWidgets": {},
     "nuid": "61ce14ef-4177-42e9-ab5b-cfe4cd7c5c91",
     "showTitle": false,
     "title": ""
    }
   },
   "outputs": [
    {
     "output_type": "stream",
     "name": "stdout",
     "output_type": "stream",
     "text": [
      "[Truncated to first 65536 bytes]\nOut[11]: '\"Id\\tStudy Title\\tAcronym\\tStatus\\tConditions\\tInterventions\\tSponsor\\tCollaborators\\tEnrollment\\tFunder Type\\tType\\tStudy Design\\tStart\\tCompletion\",,,,,,,,,,,,,,,,,,,,,,,,,,,,,,,,,,,,,,,,,,,,,,,,,,,,,,,,,,,,,,,,,,,,,,,,,,,,,,,,,,,,,,,,,,,,,,,,,,,,,,,,,,,,,,,,,,,,,,,,,,,,,,,,,,,,,,,,,,,,,,,,,,,,,,,,,,,,,,,,,,,,,,,,,,,,,,,,,,,,,,,,,,,,,,,,,,,,,,,,,,,,,,,,,,\\r\\n\"NCT03630471\\tEffectiveness of a Problem-solving Intervention for Common Adolescent Mental Health Problems in India\\tPRIDE\\tCOMPLETED\\tMental Health Issue (E.G.\", Depression, Psychosis, Personality Disorder,\" Substance Abuse)\\tBEHAVIORAL: PRIDE \\'Step 1\\' problem-solving intervention|BEHAVIORAL: Enhanced usual care\\tSangath\\tHarvard Medical School (HMS and HSDM)|London School of Hygiene and Tropical Medicine\\t250.0\\tOTHER\\tINTERVENTIONAL\\tAllocation: RANDOMIZED|Intervention Model: PARALLEL|Masking: DOUBLE (INVESTIGATOR\",\" OUTCOMES_ASSESSOR)|Primary Purpose: TREATMENT\\t2018-08-20\\t2019-02-28\",,,,,,,,,,,,,,,,,,,,,,,,,,,,,,,,,,,,,,,,,,,,,,,,,,,,,,,,,,,,,,,,,,,,,,,,,,,,,,,,,,,,,,,,,,,,,,,,,,,,,,,,,,,,,,,,,,,,,,,,,,,,,,,,,,,,,,,,,,,,,,,,,,,,,,,,,,,,,,,,,,,,,,,,,,,,,,,,,,,,,,,,,,,,,,,,,,,,,,,,,,,,,\\r\\n\"NCT05992571\\tOral Ketone Monoester Supplementation and Resting-state Brain Connectivity\\t\\tRECRUITING\\tCerebrovascular Function|Cognition\\tOTHER: Placebo|DIETARY_SUPPLEMENT: β-OHB\\tMcMaster University\\tAlzheimer\\'s Society of Brant\", Haldimand Norfolk,\" Hamilton Halton\\t30.0\\tOTHER\\tINTERVENTIONAL\\tAllocation: RANDOMIZED|Intervention Model: CROSSOVER|Masking: TRIPLE (PARTICIPANT\", INVESTIGATOR,\" OUTCOMES_ASSESSOR)|Primary Purpose: BASIC_SCIENCE\\t2023-10-25\\t2024-08\",,,,,,,,,,,,,,,,,,,,,,,,,,,,,,,,,,,,,,,,,,,,,,,,,,,,,,,,,,,,,,,,,,,,,,,,,,,,,,,,,,,,,,,,,,,,,,,,,,,,,,,,,,,,,,,,,,,,,,,,,,,,,,,,,,,,,,,,,,,,,,,,,,,,,,,,,,,,,,,,,,,,,,,,,,,,,,,,,,,,,,,,,,,,,,,,,,,,,,,,,,,,,,\\r\\n\"NCT00237471\\tImpact of Tight Glycaemic Control in Acute Myocardial Infarction\\t\\tTERMINATED\\tMyocardial Infarct|Hyperglycemia\\tDRUG: Insulin (tight blood glucose control)\\tMelbourne Health\\tNational Health and Medical Research Council\",\" Australia|Bristol-Myers Squibb\\t40.0\\tOTHER\\tINTERVENTIONAL\\tAllocation: RANDOMIZED|Intervention Model: PARALLEL|Masking: NONE|Primary Purpose: TREATMENT\\t2005-10\\t2006-05\",,,,,,,,,,,,,,,,,,,,,,,,,,,,,,,,,,,,,,,,,,,,,,,,,,,,,,,,,,,,,,,,,,,,,,,,,,,,,,,,,,,,,,,,,,,,,,,,,,,,,,,,,,,,,,,,,,,,,,,,,,,,,,,,,,,,,,,,,,,,,,,,,,,,,,,,,,,,,,,,,,,,,,,,,,,,,,,,,,,,,,,,,,,,,,,,,,,,,,,,,,,,,,,,,\\r\\n\"NCT03820271\\tNew Prognostic Predictive Models of Mortality of Decompensated Cirrhotic Patients Waiting for Liver Transplantation\\tSUPERMELD\\tRECRUITING\\tDecompensated Cirrhosis|Liver Transplantation\\tOTHER: SuperMELD\\tAssistance Publique - Hôpitaux de Paris\\t\\t500.0\\tOTHER\\tINTERVENTIONAL\\tAllocation: NA|Intervention Model: SINGLE_GROUP|Masking: NONE|Primary Purpose: OTHER\\t2020-10-01\\t2023-10-01\",,,,,,,,,,,,,,,,,,,,,,,,,,,,,,,,,,,,,,,,,,,,,,,,,,,,,,,,,,,,,,,,,,,,,,,,,,,,,,,,,,,,,,,,,,,,,,,,,,,,,,,,,,,,,,,,,,,,,,,,,,,,,,,,,,,,,,,,,,,,,,,,,,,,,,,,,,,,,,,,,,,,,,,,,,,,,,,,,,,,,,,,,,,,,,,,,,,,,,,,,,,,,,,,,,\\r\\n\"NCT06229171\\tInTake Care: Development and Validation of an Innovative\",\" Personalized Digital Health Solution for Medication Adherence Support in Cardiovascular Prevention\\tInTakeCare\\tNOT_YET_RECRUITING\\tHypertension|Treatment Adherence and Compliance|Digital Health\\tOTHER: adherence support system based on a vocal assistant\\tIstituto Auxologico Italiano\\tIstituti Clinici Scientifici Maugeri SpA|Politecnico di Milano\\t206.0\\tOTHER\\tINTERVENTIONAL\\tAllocation: RANDOMIZED|Intervention Model: PARALLEL|Masking: NONE|Primary Purpose: OTHER\\t2024-10-01\\t2026-04-01\",,,,,,,,,,,,,,,,,,,,,,,,,,,,,,,,,,,,,,,,,,,,,,,,,,,,,,,,,,,,,,,,,,,,,,,,,,,,,,,,,,,,,,,,,,,,,,,,,,,,,,,,,,,,,,,,,,,,,,,,,,,,,,,,,,,,,,,,,,,,,,,,,,,,,,,,,,,,,,,,,,,,,,,,,,,,,,,,,,,,,,,,,,,,,,,,,,,,,,,,,,,,,,,,,\\r\\n\"NCT02945371\\tTailored Inhibitory Control Training to Reverse EA-linked Deficits in Mid-life\\tREV\\tCOMPLETED\\tSmoking|Alcohol Drinking|Prescription Drug Abuse|Substance-Related Disorders|Oral Intake Reduced\\tBEHAVIORAL: Person-centered inhibitory control training|BEHAVIORAL: Active behavioral response training\\tUniversity of Oregon\\t\\t103.0\\tOTHER\\tINTERVENTIONAL\\tAllocation: RANDOMIZED|Intervention Model: PARALLEL|Masking: SINGLE (PARTICIPANT)|Primary Purpose: PREVENTION\\t2014-09\\t2016-05\",,,,,,,,,,,,,,,,,,,,,,,,,,,,,,,,,,,,,,,,,,,,,,,,,,,,,,,,,,,,,,,,,,,,,,,,,,,,,,,,,,,,,,,,,,,,,,,,,,,,,,,,,,,,,,,,,,,,,,,,,,,,,,,,,,,,,,,,,,,,,,,,,,,,,,,,,,,,,,,,,,,,,,,,,,,,,,,,,,,,,,,,,,,,,,,,,,,,,,,,,,,,,,,,,,\\r\\n\"NCT01055171\\tNeuromodulation of Trauma Memories in PTSD & Alcohol Dependence\\t\\tCOMPLETED\\tAlcohol Dependence|PTSD\\tDRUG: Propranolol|DRUG: Placebo\\tMedical University of South Carolina\\tNational Institute on Alcohol Abuse and Alcoholism (NIAAA)\\t44.0\\tOTHER\\tINTERVENTIONAL\\tAllocation: RANDOMIZED|Intervention Model: PARALLEL|Masking: QUADRUPLE (PARTICIPANT\", CARE_PROVIDER, INVESTIGATOR,\" OUTCOMES_ASSESSOR)|Primary Purpose: TREATMENT\\t2010-01\\t2012-08\",,,,,,,,,,,,,,,,,,,,,,,,,,,,,,,,,,,,,,,,,,,,,,,,,,,,,,,,,,,,,,,,,,,,,,,,,,,,,,,,,,,,,,,,,,,,,,,,,,,,,,,,,,,,,,,,,,,,,,,,,,,,,,,,,,,,,,,,,,,,,,,,,,,,,,,,,,,,,,,,,,,,,,,,,,,,,,,,,,,,,,,,,,,,,,,,,,,,,,,,,,,,,,,\\r\\n\"NCT01125371\\tComputerized Brief Alcohol Intervention (BI) for Binge Drinking HIV At-Risk and Infected Women\\t\\tCOMPLETED\\tAlcohol; Harmful Use|Binge Drinking|Risk Behavior|HIV Infection\\tBEHAVIORAL: Computerized brief alcohol intervention + IVR booster calls|BEHAVIORAL: Computerized brief alcohol intervention|BEHAVIORAL: Attention Control\\tJohns Hopkins University\\tNational Institute on Alcohol Abuse and Alcoholism (NIAAA)\\t439.0\\tOTHER\\tINTERVENTIONAL\\tAllocation: RANDOMIZED|Intervention Model: PARALLEL|Masking: DOUBLE (INVESTIGATOR\",\" OUTCOMES_ASSESSOR)|Primary Purpose: TREATMENT\\t2011-10\\t2016-06-07\",,,,,,,,,,,,,,,,,,,,,,,,,,,,,,,,,,,,,,,,,,,,,,,,,,,,,,,,,,,,,,,,,,,,,,,,,,,,,,,,,,,,,,,,,,,,,,,,,,,,,,,,,,,,,,,,,,,,,,,,,,,,,,,,,,,,,,,,,,,,,,,,,,,,,,,,,,,,,,,,,,,,,,,,,,,,,,,,,,,,,,,,,,,,,,,,,,,,,,,,,,,,,,,,,\\r\\n\"NCT02554071\\tManitoba Pharmacist Initiated Smoking Cessation Pilot Project\\t\\tCOMPLETED\\tSmoking Cessation\\tOTHER: Pharmacist - Smoking Cessation Support\\tUniversity of Manitoba\\tGovenment of Manitoba|Canadian Foundation for Pharmacy|Neighbourhood Pharmacy Association of Canada\\t119.0\\tOTHER\\tINTERVENTIONAL\\tAllocation: NA|Intervention Model: SINGLE_GROUP|Masking: NONE|Primary Purpose: SUPPORTIVE_CARE\\t2014-01\\t2014-11\",,,,,,,,,,,,,,,,,,,,,,,,,,,,,,,,,,,,,,,,,,,,,,,,,,,,,,,,,,,,,,,,,,,,,,,,,,,,,,,,,,,,,,,,,,,,,,,,,,,,,,,,,,,,,,,,,,,,,,,,,,,,,,,,,,,,,,,,,,,,,,,,,,,,,,,,,,,,,,,,,,,,,,,,,,,,,,,,,,,,,,,,,,,,,,,,,,,,,,,,,,,,,,,,,,\\r\\n\"NCT01772771\\tMolecular Testing for the MD Anderson Cancer Center Personalized Cancer Therapy Program\\t\\tRECRUITING\\tGlioma|Hematopoietic and Lymphoid Cell Neoplasm|Malignant Solid Neoplasm|Melanoma|Sarcoma\\tPROCEDURE: Biospecimen Collection|OTHER: Genetic Testing|OTHER: Medical Chart Review\\tM.D. Anderson Cancer Center\\tNational Cancer Institute (NCI)\\t12000.0\\tOTHER\\tOBSERVATIONAL\\tObservational Model: |Time Perspective: p\\t2012-03-01\\t2033-03-01\",,,,,,,,,,,,,,,,,,,,,,,,,,,,,,,,,,,,,,,,,,,,,,,,,,,,,,,,,,,,,,,,,,,,,,,,,,,,,,,,,,,,,,,,,,,,,,,,,,,,,,,,,,,,,,,,,,,,,,,,,,,,,,,,,,,,,,,,,,,,,,,,,,,,,,,,,,,,,,,,,,,,,,,,,,,,,,,,,,,,,,,,,,,,,,,,,,,,,,,,,,,,,,,,,,\\r\\n\"NCT02633371\\tA Pilot Study Exploring the Efficacy and Safety of Topical Oxybutynin 3% Gel for Primary Focal Hyperhidrosis in Adolescents and Young Adults\\t\\tCOMPLETED\\tHyperhidrosis\\tDRUG: Oxybutynin 3% gel\\tUniversity of Colorado\",\" Denver\\tSociety for Pediatric Dermatology\\t10.0\\tOTHER\\tINTERVENTIONAL\\tAllocation: NA|Intervention Model: SINGLE_GROUP|Masking: NONE|Primary Purpose: TREATMENT\\t2016-02\\t2017-05\",,,,,,,,,,,,,,,,,,,,,,,,,,,,,,,,,,,,,,,,,,,,,,,,,,,,,,,,,,,,,,,,,,,,,,,,,,,,,,,,,,,,,,,,,,,,,,,,,,,,,,,,,,,,,,,,,,,,,,,,,,,,,,,,,,,,,,,,,,,,,,,,,,,,,,,,,,,,,,,,,,,,,,,,,,,,,,,,,,,,,,,,,,,,,,,,,,,,,,,,,,,,,,,,,\\r\\n\"NCT03400371\\tBiology of Juvenile Myoclonic Epilepsy\\tBIOJUME\\tRECRUITING\\tJuvenile Myoclonic Epilepsy\\tOTHER: Blood draw|OTHER: Existing samples\\tKing\\'s College London\\tKing\\'s College Hospital NHS Trust|Charles University\",\" Czech Republic|Hopital Universitaire Robert-Debre|Vestre Viken Hospital Trust|The Hospital for Sick Children|Cardiff University|Odense University Hospital\\t1000.0\\tOTHER\\tOBSERVATIONAL\\tObservational Model: |Time Perspective: p\\t2017-07-13\\t2026-06-30\",,,,,,,,,,,,,,,,,,,,,,,,,,,,,,,,,,,,,,,,,,,,,,,,,,,,,,,,,,,,,,,,,,,,,,,,,,,,,,,,,,,,,,,,,,,,,,,,,,,,,,,,,,,,,,,,,,,,,,,,,,,,,,,,,,,,,,,,,,,,,,,,,,,,,,,,,,,,,,,,,,,,,,,,,,,,,,,,,,,,,,,,,,,,,,,,,,,,,,,,,,,,,,,,,\\r\\n\"NCT00120471\\tSafety and Blood Levels of Tenofovir Disoproxil Fumarate in HIV Infected Pregnant Women and Their Babies\\t\\tCOMPLETED\\tHIV Infections\\tDRUG: Tenofovir disoproxil fumarate|DRUG: Tenofovir disoproxil fumarate|DRUG: Tenofovir disoproxil fumarate\\tNational Institute of Allergy and Infectious Diseases (NIAID)\\tEunice Kennedy Shriver National Institute of Child Health and Human Development (NICHD)|National Institute on Drug Abuse (NIDA)|National Institute of Mental Health (NIMH)\\t122.0\\tNIH\\tINTERVENTIONAL\\tAllocation: RANDOMIZED|Intervention Model: PARALLEL|Masking: NONE|Primary Purpose: PREVENTION\\t2006-11\\t2011-12\",,,,,,,,,,,,,,,,,,,,,,,,,,,,,,,,,,,,,,,,,,,,,,,,,,,,,,,,,,,,,,,,,,,,,,,,,,,,,,,,,,,,,,,,,,,,,,,,,,,,,,,,,,,,,,,,,,,,,,,,,,,,,,,,,,,,,,,,,,,,,,,,,,,,,,,,,,,,,,,,,,,,,,,,,,,,,,,,,,,,,,,,,,,,,,,,,,,,,,,,,,,,,,,,,,\\r\\n\"NCT04784871\\tPromoting Wellbeing: The Five Ways to All Intervention\\t5WaysA\\tCOMPLETED\\tWellbeing|Health Attitude|Quality of Life\\tBEHAVIORAL: 5waysA Intervention|BEHAVIORAL: 5waysA Active wait-list control|BEHAVIORAL: 5waysA Inactive wait-list control\\tUniversity of Oslo\\tNorwegian Institute of Public Health|Norwegian Council for Mental Health|The Dam Foundation\\t970.0\\tOTHER\\tINTERVENTIONAL\\tAllocation: RANDOMIZED|Intervention Model: PARALLEL|Masking: NONE|Primary Purpose: PREVENTION\\t2021-03-04\\t2023-02-24\",,,,,,,,,,,,,,,,,,,,,,,,,,,,,,,,,,,,,,,,,,,,,,,,,,,,,,,,,,,,,,,,,,,,,,,,,,,,,,,,,,,,,,,,,,,,,,,,,,,,,,,,,,,,,,,,,,,,,,,,,,,,,,,,,,,,,,,,,,,,,,,,,,,,,,,,,,,,,,,,,,,,,,,,,,,,,,,,,,,,,,,,,,,,,,,,,,,,,,,,,,,,,,,,,,\\r\\n\"NCT02383771\\tReversal of the Anti-platelet Effects of Ticagrelor\\tREVERSAL\\tCOMPLETED\\tCoronary Artery Disease\\tDRUG: Ticagrelor|DRUG: Aspirin + Ticagrelor|DRUG: Control|DRUG: Aspirin + Ticagrelor\\tThe First Affiliated Hospital with Nanjing Medical University\\tNational Natural Science Foundation of China\\t64.0\\tOTHER\\tINTERVENTIONAL\\tAllocation: RANDOMIZED|Intervention Model: PARALLEL|Masking: SINGLE (INVESTIGATOR)|Primary Purpose: TREATMENT\\t2015-03\\t2016-12\",,,,,,,,,,,,,,,,,,,,,,,,,,,,,,,,,,,,,,,,,,,,,,,,,,,,,,,,,,,,,,,,,,,,,,,,,,,,,,,,,,,,,,,,,,,,,,,,,,,,,,,,,,,,,,,,,,,,,,,,,,,,,,,,,,,,,,,,,,,,,,,,,,,,,,,,,,,,,,,,,,,,,,,,,,,,,,,,,,,,,,,,,,,,,,,,,,,,,,,,,,,,,,,,,,\\r\\n\"NCT03269071\\tNeural Stem Cell Transplantation in Multiple Sclerosis Patients\\tSTEMS\\tCOMPLETED\\tProgressive Multiple Sclerosis\\tDRUG: human fetal-derived Neural Stem Cells (hNSCs)\\tIRCCS San Raffaele\\tFondazione Italiana Sclerosi Multipla\\t4.0\\tOTHER\\tINTERVENTIONAL\\tAllocation: NON_RANDOMIZED|Intervention Model: SEQUENTIAL|Masking: NONE|Primary Purpose: TREATMENT\\t2017-05-17\\t2021-07-31\",,,,,,,,,,,,,,,,,,,,,,,,,,,,,,,,,,,,,,,,,,,,,,,,,,,,,,,,,,,,,,,,,,,,,,,,,,,,,,,,,,,,,,,,,,,,,,,,,,,,,,,,,,,,,,,,,,,,,,,,,,,,,,,,,,,,,,,,,,,,,,,,,,,,,,,,,,,,,,,,,,,,,,,,,,,,,,,,,,,,,,,,,,,,,,,,,,,,,,,,,,,,,,,,,,\\r\\n\"NCT01659671\\tRCT of the Effect of Uvulopalatopharyngoplasty Compared to Expectancy in Patients With Obstructive Sleep Apnea\\tSKUP3\\tCOMPLETED\\tObstructive Sleep Apnea Syndrome\\tPROCEDURE: Uvulopalatopharyngoplasty\\tKarolinska University Hospital\\tKarolinska Institutet\\t65.0\\tOTHER\\tINTERVENTIONAL\\tAllocation: RANDOMIZED|Intervention Model: PARALLEL|Masking: SINGLE (OUTCOMES_ASSESSOR)|Primary Purpose: TREATMENT\\t2007-06\\t2014-05\",,,,,,,,,,,,,,,,,,,,,,,,,,,,,,,,,,,,,,,,,,,,,,,,,,,,,,,,,,,,,,,,,,,,,,,,,,,,,,,,,,,,,,,,,,,,,,,,,,,,,,,,,,,,,,,,,,,,,,,,,,,,,,,,,,,,,,,,,,,,,,,,,,,,,,,,,,,,,,,,,,,,,,,,,,,,,,,,,,,,,,,,,,,,,,,,,,,,,,,,,,,,,,,,,,\\r\\n\"NCT04765371\\tComparison Between Prednisolone and Dexamethasone on Mortality in Patients on Oxygen Therapy\",\" With CoViD-19\\tCOPreDex\\tCOMPLETED\\tCoronavirus Infection\\tDRUG: DEXAMETHASONE|DRUG: PREDNISOLONE\\tHôpital NOVO\\t\\t89.0\\tOTHER\\tINTERVENTIONAL\\tAllocation: RANDOMIZED|Intervention Model: PARALLEL|Masking: NONE|Primary Purpose: TREATMENT\\t2021-03-03\\t2022-05-13\",,,,,,,,,,,,,,,,,,,,,,,,,,,,,,,,,,,,,,,,,,,,,,,,,,,,,,,,,,,,,,,,,,,,,,,,,,,,,,,,,,,,,,,,,,,,,,,,,,,,,,,,,,,,,,,,,,,,,,,,,,,,,,,,,,,,,,,,,,,,,,,,,,,,,,,,,,,,,,,,,,,,,,,,,,,,,,,,,,,,,,,,,,,,,,,,,,,,,,,,,,,,,,,,,\\r\\n\"NCT02830971\\tDeveloping a Standardized Learning Curve\\t\\tCOMPLETED\\tRegistered Nurses|Nursing Personnel|Motor Skills\\tPROCEDURE: Doing Different ICU techniques and skills\\tBaqiyatallah Medical Sciences University\\tShahid Beheshti University|Tehran University of Medical Sciences\\t60.0\\tOTHER\\tINTERVENTIONAL\\tAllocation: NA|Intervention Model: SINGLE_GROUP|Masking: NONE|Primary Purpose: BASIC_SCIENCE\\t2016-07\\t2021-04-12\",,,,,,,,,,,,,,,,,,,,,,,,,,,,,,,,,,,,,,,,,,,,,,,,,,,,,,,,,,,,,,,,,,,,,,,,,,,,,,,,,,,,,,,,,,,,,,,,,,,,,,,,,,,,,,,,,,,,,,,,,,,,,,,,,,,,,,,,,,,,,,,,,,,,,,,,,,,,,,,,,,,,,,,,,,,,,,,,,,,,,,,,,,,,,,,,,,,,,,,,,,,,,,,,,,\\r\\n\"NCT00416871\\tInterleukin-2 and Interferon in Treating Patients With Metastatic Kidney Cancer\\t\\tCOMPLETED\\tKidney Cancer\\tBIOLOGICAL: aldesleukin|BIOLOGICAL: recombinant interferon alfa\\tCentre Leon Berard\\t\\t220.0\\tOTHER\\tINTERVENTIONAL\\tAllocation: RANDOMIZED|Intervention Model: |Masking: NONE|Primary Purpose: TREATMENT\\t\\t2006-02\",,,,,,,,,,,,,,,,,,,,,,,,,,,,,,,,,,,,,,,,,,,,,,,,,,,,,,,,,,,,,,,,,,,,,,,,,,,,,,,,,,,,,,,,,,,,,,,,,,,,,,,,,,,,,,,,,,,,,,,,,,,,,,,,,,,,,,,,,,,,,,,,,,,,,,,,,,,,,,,,,,,,,,,,,,,,,,,,,,,,,,,,,,,,,,,,,,,,,,,,,,,,,,,,,,\\r\\n\"NCT05900271\\tDutch-Depression Outcome Trial Comparing 5 Day Multi Daily Neuronavigated Theta Burst Sessions With 6 Weeks rTMS\\tDDOT\\tACTIVE_NOT_RECRUITING\\tTreatment Resistant Depression\\tDEVICE: rTMS|DEVICE: iTBS\\tAmsterdam UMC\",\" location VUmc\\tRadboud University Medical Center|University Medical Center Groningen|Maastricht University|Trimbos|Academisch Medisch Centrum - Universiteit van Amsterdam (AMC-UvA)\\t108.0\\tOTHER\\tINTERVENTIONAL\\tAllocation: RANDOMIZED|Intervention Model: PARALLEL|Masking: SINGLE (OUTCOMES_ASSESSOR)|Primary Purpose: TREATMENT\\t2023-11-15\\t2027-12\",,,,,,,,,,,,,,,,,,,,,,,,,,,,,,,,,,,,,,,,,,,,,,,,,,,,,,,,,,,,,,,,,,,,,,,,,,,,,,,,,,,,,,,,,,,,,,,,,,,,,,,,,,,,,,,,,,,,,,,,,,,,,,,,,,,,,,,,,,,,,,,,,,,,,,,,,,,,,,,,,,,,,,,,,,,,,,,,,,,,,,,,,,,,,,,,,,,,,,,,,,,,,,,,,\\r\\n\"NCT02469571\\tModulation of Gut Microbiota in Early Sepsis: A Pilot Study\\tMGM-sepsis\\tCOMPLETED\\tSepsis\\tDIETARY_SUPPLEMENT: Winclove 607|DIETARY_SUPPLEMENT: Placebo\\tMedical University of Graz\\t\\t15.0\\tOTHER\\tINTERVENTIONAL\\tAllocation: RANDOMIZED|Intervention Model: PARALLEL|Masking: QUADRUPLE (PARTICIPANT\", CARE_PROVIDER, INVESTIGATOR,\" OUTCOMES_ASSESSOR)|Primary Purpose: PREVENTION\\t2015-09-01\\t2018-03-01\",,,,,,,,,,,,,,,,,,,,,,,,,,,,,,,,,,,,,,,,,,,,,,,,,,,,,,,,,,,,,,,,,,,,,,,,,,,,,,,,,,,,,,,,,,,,,,,,,,,,,,,,,,,,,,,,,,,,,,,,,,,,,,,,,,,,,,,,,,,,,,,,,,,,,,,,,,,,,,,,,,,,,,,,,,,,,,,,,,,,,,,,,,,,,,,,,,,,,,,,,,,,,,,\\r\\n\"NCT05807971\\tAssessment of Safety\", Tolerability, Pharmacokinetics,\" and Pharmacodynamics of ATH-063 in Healthy Subjects\\t\\tRECRUITING\\tInflammatory Bowel Diseases|Crohn Disease|Ulcerative Colitis|Autoimmune Diseases\\tDRUG: ATH-063|DRUG: Placebo\\tAthos Therapeutics Inc\\tSyneos Health|Athos Therapeutics Australia Pty Ltd\\t76.0\\tINDUSTRY\\tINTERVENTIONAL\\tAllocation: RANDOMIZED|Intervention Model: SEQUENTIAL|Masking: QUADRUPLE (PARTICIPANT\", CARE_PROVIDER, INVESTIGATOR,\" OUTCOMES_ASSESSOR)|Primary Purpose: TREATMENT\\t2023-04-06\\t2024-02-08\",,,,,,,,,,,,,,,,,,,,,,,,,,,,,,,,,,,,,,,,,,,,,,,,,,,,,,,,,,,,,,,,,,,,,,,,,,,,,,,,,,,,,,,,,,,,,,,,,,,,,,,,,,,,,,,,,,,,,,,,,,,,,,,,,,,,,,,,,,,,,,,,,,,,,,,,,,,,,,,,,,,,,,,,,,,,,,,,,,,,,,,,,,,,,,,,,,,,,,,,,,,,\\r\\n\"NCT02083471\\tCow\\'s Milk and Hen\\'s Egg Hyposensitization in Adults\\t\\tUNKNOWN\\tEgg Allergy|Cow\\'s Milk Allergy\\tDIETARY_SUPPLEMENT: Specific Oral Tolerance Induction with Egg or Cow\\'s milk\\tTurku University Hospital\\t\\t40.0\\tOTHER_GOV\\tINTERVENTIONAL\\tAllocation: RANDOMIZED|Intervention Model: PARALLEL|Masking: NONE|Primary Purpose: TREATMENT\\t2015-04\\t2017-05\",,,,,,,,,,,,,,,,,,,,,,,,,,,,,,,,,,,,,,,,,,,,,,,,,,,,,,,,,,,,,,,,,,,,,,,,,,,,,,,,,,,,,,,,,,,,,,,,,,,,,,,,,,,,,,,,,,,,,,,,,,,,,,,,,,,,,,,,,,,,,,,,,,,,,,,,,,,,,,,,,,,,,,,,,,,,,,,,,,,,,,,,,,,,,,,,,,,,,,,,,,,,,,,,,,\\r\\n\"NCT01062971\\tClinical Study of A Fixed Combination of Timolol-Brimonidine-Dorzolamide\\t\\tCOMPLETED\\tPrimary Open Angle Glaucoma|Ocular Hypertension\\tDRUG: dorzolamide-timolol-brimonidine\\tLaboratorios Sophia S.A de C.V.\\t\\t124.0\\tINDUSTRY\\tINTERVENTIONAL\\tAllocation: RANDOMIZED|Intervention Model: PARALLEL|Masking: DOUBLE (PARTICIPANT\",\" INVESTIGATOR)|Primary Purpose: TREATMENT\\t2006-02\\t2008-06\",,,,,,,,,,,,,,,,,,,,,,,,,,,,,,,,,,,,,,,,,,,,,,,,,,,,,,,,,,,,,,,,,,,,,,,,,,,,,,,,,,,,,,,,,,,,,,,,,,,,,,,,,,,,,,,,,,,,,,,,,,,,,,,,,,,,,,,,,,,,,,,,,,,,,,,,,,,,,,,,,,,,,,,,,,,,,,,,,,,,,,,,,,,,,,,,,,,,,,,,,,,,,,,,,\\r\\n\"NCT03928171\\tThe Effect of Intra-abdominal Pressure on Peritoneal Perfusion During Laparoscopic Colorectal Surgery\\tPERFUSION\\tCOMPLETED\\tLaparoscopic Surgery|Pneumoperitoneum\\tOTHER: Intra-abdominal pressure during laparoscopy\\tRadboud University Medical Center\\t\\t30.0\\tOTHER\\tINTERVENTIONAL\\tAllocation: RANDOMIZED|Intervention Model: PARALLEL|Masking: TRIPLE (PARTICIPANT\", CARE_PROVIDER,\" OUTCOMES_ASSESSOR)|Primary Purpose: TREATMENT\\t2018-06-13\\t2018-12-24\",,,,,,,,,,,,,,,,,,,,,,,,,,,,,,,,,,,,,,,,,,,,,,,,,,,,,,,,,,,,,,,,,,,,,,,,,,,,,,,,,,,,,,,,,,,,,,,,,,,,,,,,,,,,,,,,,,,,,,,,,,,,,,,,,,,,,,,,,,,,,,,,,,,,,,,,,,,,,,,,,,,,,,,,,,,,,,,,,,,,,,,,,,,,,,,,,,,,,,,,,,,,,,,,\\r\\n\"NCT00897871\\tEvaluating the Side Effects and How Well Anticancer Drugs Work in Very Young Patients With Cancer\\t\\tUNKNOWN\\tUnspecified Childhood Solid Tumor\",\" Protocol Specific\\tDRUG: carboplatin|DRUG: cyclophosphamide|DRUG: etoposide phosphate|GENETIC: gene expression analysis|GENETIC: polymorphism analysis|OTHER: pharmacological study\\tChildren\\'s Cancer and Leukaemia Group\\t\\t60.0\\tOTHER\\tOBSERVATIONAL\\tObservational Model: |Time Perspective: p\\t2007-02\\t\",,,,,,,,,,,,,,,,,,,,,,,,,,,,,,,,,,,,,,,,,,,,,,,,,,,,,,,,,,,,,,,,,,,,,,,,,,,,,,,,,,,,,,,,,,,,,,,,,,,,,,,,,,,,,,,,,,,,,,,,,,,,,,,,,,,,,,,,,,,,,,,,,,,,,,,,,,,,,,,,,,,,,,,,,,,,,,,,,,,,,,,,,,,,,,,,,,,,,,,,,,,,,,,,,\\r\\n\"NCT00848471\\tValidation of the Quark RMR Calorimeter (Cosmed) Versus Deltatrac II (GE Health Care Clinical Systems)\\tProtocol Quark\\tUNKNOWN\\tHealthy|Obesity\\tDEVICE: Quark RMR|DEVICE: Deltatrac II\\tHospices Civils de Lyon\\tCentre de Recherche en Nutrition Humaine Rhone-Alpe\\t30.0\\tOTHER\\tINTERVENTIONAL\\tAllocation: RANDOMIZED|Intervention Model: CROSSOVER|Masking: NONE|Primary Purpose: HEALTH_SERVICES_RESEARCH\\t2009-01\\t2009-12\",,,,,,,,,,,,,,,,,,,,,,,,,,,,,,,,,,,,,,,,,,,,,,,,,,,,,,,,,,,,,,,,,,,,,,,,,,,,,,,,,,,,,,,,,,,,,,,,,,,,,,,,,,,,,,,,,,,,,,,,,,,,,,,,,,,,,,,,,,,,,,,,,,,,,,,,,,,,,,,,,,,,,,,,,,,,,,,,,,,,,,,,,,,,,,,,,,,,,,,,,,,,,,,,,,\\r\\n\"NCT06135571\\tStudy on the No.253 Lymph Node Metastasis Patterns in Left-Sided Colon and Rectal Cancer\\t\\tRECRUITING\\tColorectal Cancer|Lymph Node Metastasis\\tPROCEDURE: Laparoscopic colorectal surgery\\tCancer Institute and Hospital\",\" Chinese Academy of Medical Sciences\\tPeking Union Medical College Hospital|Peking University Cancer Hospital & Institute|China-Japan Friendship Hospital|Chinese PLA General Hospital\\t3000.0\\tOTHER\\tOBSERVATIONAL\\tObservational Model: |Time Perspective: p\\t2023-09-01\\t2026-09-01\",,,,,,,,,,,,,,,,,,,,,,,,,,,,,,,,,,,,,,,,,,,,,,,,,,,,,,,,,,,,,,,,,,,,,,,,,,,,,,,,,,,,,,,,,,,,,,,,,,,,,,,,,,,,,,,,,,,,,,,,,,,,,,,,,,,,,,,,,,,,,,,,,,,,,,,,,,,,,,,,,,,,,,,,,,,,,,,,,,,,,,,,,,,,,,,,,,,,,,,,,,,,,,,,,\\r\\n\"NCT01189071\\tPreoperative Use of Darifenacin (Enablex) to Alleviate Postoperative Ureteral Stent Pain\\t\\tTERMINATED\\tOveractive Bladder|Renal Colic|Pain\",\" Postoperative\\tDRUG: Darifenacin\\tUniversity of Missouri-Columbia\\t\\t3.0\\tOTHER\\tINTERVENTIONAL\\tAllocation: RANDOMIZED|Intervention Model: PARALLEL|Masking: DOUBLE (PARTICIPANT\",\" INVESTIGATOR)|Primary Purpose: TREATMENT\\t2009-08\\t2011-07\",,,,,,,,,,,,,,,,,,,,,,,,,,,,,,,,,,,,,,,,,,,,,,,,,,,,,,,,,,,,,,,,,,,,,,,,,,,,,,,,,,,,,,,,,,,,,,,,,,,,,,,,,,,,,,,,,,,,,,,,,,,,,,,,,,,,,,,,,,,,,,,,,,,,,,,,,,,,,,,,,,,,,,,,,,,,,,,,,,,,,,,,,,,,,,,,,,,,,,,,,,,,,,,,\\r\\n\"NCT00728871\\tThe Correlations Between HPV L1-Specific Immunologic Responses in Cervical Cancer and Cervical Intraepithelial Neoplasia (CIN) Patients and Their Prognosis\\t\\tUNKNOWN\\tCervical Cancer|Cervical Intraepithelial Neoplasia\\tPROCEDURE: peripheral blood isolation\\tNational Taiwan University Hospital\\t\\t600.0\\tOTHER\\tINTERVENTIONAL\\tAllocation: NA|Intervention Model: SINGLE_GROUP|Masking: NONE|Primary Purpose: BASIC_SCIENCE\\t2005-12\\t2011-12\",,,,,,,,,,,,,,,,,,,,,,,,,,,,,,,,,,,,,,,,,,,,,,,,,,,,,,,,,,,,,,,,,,,,,,,,,,,,,,,,,,,,,,,,,,,,,,,,,,,,,,,,,,,,,,,,,,,,,,,,,,,,,,,,,,,,,,,,,,,,,,,,,,,,,,,,,,,,,,,,,,,,,,,,,,,,,,,,,,,,,,,,,,,,,,,,,,,,,,,,,,,,,,,,,,\\r\\n\"NCT05592171\\tOcclusafe® Assisted MW Alone or With DEB-TACE Compared to MW With DEB-TACE in the Treatment of HCC\\tSEASON-HCC\\tRECRUITING\\tHCC\\tPROCEDURE: Microwave ablation + Occlusafe + DEB-TACE|PROCEDURE: Microwave ablation + Occlusafe|PROCEDURE: Microwave ablation + DEB-TACE\\tUniversity of Pisa\\tAzienda Ospedaliera Città della Salute e della Scienza di Torino|Fondazione Policlinico Universitario Agostino Gemelli IRCCS|Azienda Ospedaliera Universitaria Policlinico|IRCCS Azienda Ospedaliero-Universitaria di Bologna|Terumo Europe N.V.|Azienda Ospedaliero\",\" Universitaria Pisana\\t60.0\\tOTHER\\tINTERVENTIONAL\\tAllocation: RANDOMIZED|Intervention Model: PARALLEL|Masking: NONE|Primary Purpose: TREATMENT\\t2022-10-17\\t2025-10-17\",,,,,,,,,,,,,,,,,,,,,,,,,,,,,,,,,,,,,,,,,,,,,,,,,,,,,,,,,,,,,,,,,,,,,,,,,,,,,,,,,,,,,,,,,,,,,,,,,,,,,,,,,,,,,,,,,,,,,,,,,,,,,,,,,,,,,,,,,,,,,,,,,,,,,,,,,,,,,,,,,,,,,,,,,,,,,,,,,,,,,,,,,,,,,,,,,,,,,,,,,,,,,,,,,\\r\\n\"NCT00520871\\tThe Water-Blueberry Study\\t\\tCOMPLETED\\tCardiovascular Disease\\tDRUG: Blueberry juice\\tUniversity of Oslo\\tUllevaal University Hospital\\t62.0\\tOTHER\\tINTERVENTIONAL\\tAllocation: RANDOMIZED|Intervention Model: PARALLEL|Masking: SINGLE|Primary Purpose: PREVENTION\\t2003-03\\t2004-04\",,,,,,,,,,,,,,,,,,,,,,,,,,,,,,,,,,,,,,,,,,,,,,,,,,,,,,,,,,,,,,,,,,,,,,,,,,,,,,,,,,,,,,,,,,,,,,,,,,,,,,,,,,,,,,,,,,,,,,,,,,,,,,,,,,,,,,,,,,,,,,,,,,,,,,,,,,,,,,,,,,,,,,,,,,,,,,,,,,,,,,,,,,,,,,,,,,,,,,,,,,,,,,,,,,\\r\\n\"NCT05913271\\tStudy on the Correlation Between NAT2(N-acetyltransferase2) Gene Polymorphism and CrCl(Creatine Clreance) and the Efficacy and Safety of Levosimendan in Patients With Severe Heart Failure\\t\\tRECRUITING\\tHeart Failure|Levosimendan|Efficacy|Safety\\t\\tYi Han\\tQianfoshan Hospital\\t352.0\\tOTHER\\tOBSERVATIONAL\\tObservational Model: |Time Perspective: p\\t2023-05-30\\t2025-05-30\",,,,,,,,,,,,,,,,,,,,,,,,,,,,,,,,,,,,,,,,,,,,,,,,,,,,,,,,,,,,,,,,,,,,,,,,,,,,,,,,,,,,,,,,,,,,,,,,,,,,,,,,,,,,,,,,,,,,,,,,,,,,,,,,,,,,,,,,,,,,,,,,,,,,,,,,,,,,,,,,,,,,,,,,,,,,,,,,,,,,,,,,,,,,,,,,,,,,,,,,,,,,,,,,,,\\r\\n\"NCT04006171\\tComparison of Serum C Type Natriuretic Peptide Levels Between Polycystic Ovary Syndrome Patients and Healthy Women\\tCNP\\tCOMPLETED\\tPolycystic Ovary Syndrome|c Type Natriuretic Peptide|Menstrual Irregularity|Hyperandrogenism\\tDIAGNOSTIC_TEST: C type natriuretic peptide\\tNear East University\",\" Turkey\\t\\t90.0\\tOTHER\\tINTERVENTIONAL\\tAllocation: NON_RANDOMIZED|Intervention Model: PARALLEL|Masking: NONE|Primary Purpose: DIAGNOSTIC\\t2019-07-15\\t2020-09-01\",,,,,,,,,,,,,,,,,,,,,,,,,,,,,,,,,,,,,,,,,,,,,,,,,,,,,,,,,,,,,,,,,,,,,,,,,,,,,,,,,,,,,,,,,,,,,,,,,,,,,,,,,,,,,,,,,,,,,,,,,,,,,,,,,,,,,,,,,,,,,,,,,,,,,,,,,,,,,,,,,,,,,,,,,,,,,,,,,,,,,,,,,,,,,,,,,,,,,,,,,,,,,,,,,\\r\\n\"NCT04370171\\tManagement of Diabetic Patients With Telemedicine in the Context of the Covid-19 Epidemic\\tTeleCoviDiab\\tCOMPLETED\\tDiabetes|Covid-19\\tOTHER: care modalities|OTHER: Teleconsultation either by phone or by computer consultation\\tUniversity Hospital\", Strasbourg,\" France\\t\\t610.0\\tOTHER\\tOBSERVATIONAL\\tObservational Model: |Time Perspective: p\\t2020-05-04\\t2020-05-29\",,,,,,,,,,,,,,,,,,,,,,,,,,,,,,,,,,,,,,,,,,,,,,,,,,,,,,,,,,,,,,,,,,,,,,,,,,,,,,,,,,,,,,,,,,,,,,,,,,,,,,,,,,,,,,,,,,,,,,,,,,,,,,,,,,,,,,,,,,,,,,,,,,,,,,,,,,,,,,,,,,,,,,,,,,,,,,,,,,,,,,,,,,,,,,,,,,,,,,,,,,,,,,,,\\r\\n\"NCT04340271\\tThe Clinical Utility of Extracorporeal Shock Wave Therapy on Burns\\t\\tCOMPLETED\\tBurn Scar\\tOTHER: Extracorporeal shock wave therapy|OTHER: conventional occupational therapy\\tHangang Sacred Heart Hospital\\t\\t48.0\\tOTHER\\tINTERVENTIONAL\\tAllocation: RANDOMIZED|Inter\n\n*** WARNING: max output size exceeded, skipping output. ***\n\n,,,,,,,,,,,,,,,,,,,,,,,,,,,,,,,,,,,,,,,,,,,,,,,,,,,,,,,,,,,,,,,,,,,,,,,,,,,,,,,,,,,,,,,,,,,,,,,,,,,,,,,,,,,,,,,,,,,,,,,,,,,,,,,,,,,,,,,,,,,,,,,,,\\r\\n\"NCT05974371\\tEpisodic Memory Integration and Interference\\t\\tNOT_YET_RECRUITING\\tEpisodic Memory\\tOTHER: emotional context similarity\\tBoston College\\t\\t150.0\\tOTHER\\tINTERVENTIONAL\\tAllocation: NA|Intervention Model: SINGLE_GROUP|Masking: NONE|Primary Purpose: BASIC_SCIENCE\\t2024-08\\t2027-08\",,,,,,,,,,,,,,,,,,,,,,,,,,,,,,,,,,,,,,,,,,,,,,,,,,,,,,,,,,,,,,,,,,,,,,,,,,,,,,,,,,,,,,,,,,,,,,,,,,,,,,,,,,,,,,,,,,,,,,,,,,,,,,,,,,,,,,,,,,,,,,,,,,,,,,,,,,,,,,,,,,,,,,,,,,,,,,,,,,,,,,,,,,,,,,,,,,,,,,,,,,,,,,,,,,\\r\\n\"NCT03713671\\tGait and Balance Parameters Before and After Parathyroidectomy in Patients With Primary Hyperparathyroidism\\t\\tCOMPLETED\\tPrimary Hyperparathyroidism\\tDIAGNOSTIC_TEST: gait analysis\\tRecep Tayyip Erdogan University Training and Research Hospital\\tHacettepe University|Ankara Education and Research Hospital\\t40.0\\tOTHER\\tINTERVENTIONAL\\tAllocation: RANDOMIZED|Intervention Model: PARALLEL|Masking: SINGLE (OUTCOMES_ASSESSOR)|Primary Purpose: SCREENING\\t2021-10-17\\t2023-08-27\",,,,,,,,,,,,,,,,,,,,,,,,,,,,,,,,,,,,,,,,,,,,,,,,,,,,,,,,,,,,,,,,,,,,,,,,,,,,,,,,,,,,,,,,,,,,,,,,,,,,,,,,,,,,,,,,,,,,,,,,,,,,,,,,,,,,,,,,,,,,,,,,,,,,,,,,,,,,,,,,,,,,,,,,,,,,,,,,,,,,,,,,,,,,,,,,,,,,,,,,,,,,,,,,,,\\r\\n\"NCT02645071\\tBrief Program in Reducing Sedentary Behavior and Promoting Physical Exercise\\t\\tCOMPLETED\\tPhysical Activity\\tBEHAVIORAL: Physical Activity\\tThe University of Hong Kong\\tHong Kong Jockey Club Charities Trust\\t141.0\\tOTHER\\tINTERVENTIONAL\\tAllocation: NA|Intervention Model: SINGLE_GROUP|Masking: NONE|Primary Purpose: PREVENTION\\t2015-07\\t2017-07\",,,,,,,,,,,,,,,,,,,,,,,,,,,,,,,,,,,,,,,,,,,,,,,,,,,,,,,,,,,,,,,,,,,,,,,,,,,,,,,,,,,,,,,,,,,,,,,,,,,,,,,,,,,,,,,,,,,,,,,,,,,,,,,,,,,,,,,,,,,,,,,,,,,,,,,,,,,,,,,,,,,,,,,,,,,,,,,,,,,,,,,,,,,,,,,,,,,,,,,,,,,,,,,,,,\\r\\n\"NCT04004871\\tInduction Chemotherapy With Nab-paclitaxel\",\" Cisplatin and Fluorouracil for Locoregionally Advanced Nasopharyngeal Carcinoma\\t\\tUNKNOWN\\tNasopharyngeal Carcinoma|Nasopharyngeal Cancer|Nasopharynx Cancer\\tDRUG: Nab-paclitaxel\",\" Cisplatin and Fluorouracil|RADIATION: concurrent chemoradiotherapy\\tGuangxi Medical University\\tSecond Affiliated Hospital of Guangxi Medical University|Guilin Medical University\",\" China|Liuzhou Workers Hospital|Wuzhou Red Cross Hospital\\t60.0\\tOTHER\\tINTERVENTIONAL\\tAllocation: NA|Intervention Model: SINGLE_GROUP|Masking: NONE|Primary Purpose: TREATMENT\\t2019-07-05\\t2022-06-30\",,,,,,,,,,,,,,,,,,,,,,,,,,,,,,,,,,,,,,,,,,,,,,,,,,,,,,,,,,,,,,,,,,,,,,,,,,,,,,,,,,,,,,,,,,,,,,,,,,,,,,,,,,,,,,,,,,,,,,,,,,,,,,,,,,,,,,,,,,,,,,,,,,,,,,,,,,,,,,,,,,,,,,,,,,,,,,,,,,,,,,,,,,,,,,,,,,,,,,,,,,,,,,,\\r\\n\"NCT05953571\\tLaparoscopic Assisted Dismembered Pyeloplasty Versus Open Pyeloplasty in (UPJO) With Poorly Function Kidney in Pediatrics\\t\\tCOMPLETED\\tUretro-pelvic Junction Obstruction|Poorly Function Kidney\\tPROCEDURE: Dismembered Pyeloplasty\\tAl-Azhar University\\tUniversity Hospital Fattouma Bourguiba\\t65.0\\tOTHER\\tOBSERVATIONAL\\tObservational Model: |Time Perspective: p\\t2022-01-08\\t2023-06-30\",,,,,,,,,,,,,,,,,,,,,,,,,,,,,,,,,,,,,,,,,,,,,,,,,,,,,,,,,,,,,,,,,,,,,,,,,,,,,,,,,,,,,,,,,,,,,,,,,,,,,,,,,,,,,,,,,,,,,,,,,,,,,,,,,,,,,,,,,,,,,,,,,,,,,,,,,,,,,,,,,,,,,,,,,,,,,,,,,,,,,,,,,,,,,,,,,,,,,,,,,,,,,,,,,,\\r\\n\"NCT02570971\\tMannitol Versus Supportive Care in Ciguatera Fish Poisoning\\t\\tUNKNOWN\\tCiguatoxin\\tDRUG: Mannitol\\tUniversity of South Florida\\tFlorida Poison Control Center\\t200.0\\tOTHER\\tINTERVENTIONAL\\tAllocation: RANDOMIZED|Intervention Model: SINGLE_GROUP|Masking: TRIPLE (PARTICIPANT\", CARE_PROVIDER,\" INVESTIGATOR)|Primary Purpose: TREATMENT\\t2015-10\\t\",,,,,,,,,,,,,,,,,,,,,,,,,,,,,,,,,,,,,,,,,,,,,,,,,,,,,,,,,,,,,,,,,,,,,,,,,,,,,,,,,,,,,,,,,,,,,,,,,,,,,,,,,,,,,,,,,,,,,,,,,,,,,,,,,,,,,,,,,,,,,,,,,,,,,,,,,,,,,,,,,,,,,,,,,,,,,,,,,,,,,,,,,,,,,,,,,,,,,,,,,,,,,,,,\\r\\n\"NCT03987971\\tAcupuncture on GB26 to Treat Chronic Low Back Pain\\t\\tUNKNOWN\\tChronic Low-back Pain\\tOTHER: acupuncture\\tWenzhou Medical University\\tQingtian People\\'s hospital\\t114.0\\tOTHER\\tINTERVENTIONAL\\tAllocation: RANDOMIZED|Intervention Model: PARALLEL|Masking: TRIPLE (PARTICIPANT\", INVESTIGATOR,\" OUTCOMES_ASSESSOR)|Primary Purpose: TREATMENT\\t2020-01\\t2021-07\",,,,,,,,,,,,,,,,,,,,,,,,,,,,,,,,,,,,,,,,,,,,,,,,,,,,,,,,,,,,,,,,,,,,,,,,,,,,,,,,,,,,,,,,,,,,,,,,,,,,,,,,,,,,,,,,,,,,,,,,,,,,,,,,,,,,,,,,,,,,,,,,,,,,,,,,,,,,,,,,,,,,,,,,,,,,,,,,,,,,,,,,,,,,,,,,,,,,,,,,,,,,,,,,\\r\\n\"NCT01425671\\tNeural Oscillations as Genetic and Functional Biomarkers in Normal and Disease States\\t\\tACTIVE_NOT_RECRUITING\\tSchizophrenia|Schizoaffective Disorder|Schizophreniform Disorder\\t\\tUniversity of Maryland\",\" Baltimore\\tNational Institute of Mental Health (NIMH)\\t800.0\\tOTHER\\tOBSERVATIONAL\\tObservational Model: |Time Perspective: p\\t2010-11-30\\t2024-06\",,,,,,,,,,,,,,,,,,,,,,,,,,,,,,,,,,,,,,,,,,,,,,,,,,,,,,,,,,,,,,,,,,,,,,,,,,,,,,,,,,,,,,,,,,,,,,,,,,,,,,,,,,,,,,,,,,,,,,,,,,,,,,,,,,,,,,,,,,,,,,,,,,,,,,,,,,,,,,,,,,,,,,,,,,,,,,,,,,,,,,,,,,,,,,,,,,,,,,,,,,,,,,,,,\\r\\n\"NCT04962971\\tComparative Effect of 3 Different Cranberry Extracts on Cystitis Related Urinary Comfort in Women\\t\\tCOMPLETED\\tRecurrent Cystitis\\tDIETARY_SUPPLEMENT: X|DIETARY_SUPPLEMENT: Y|DIETARY_SUPPLEMENT: Z\\tCEN Biotech\\tNexira|CEN Nutriment\\t216.0\\tINDUSTRY\\tOBSERVATIONAL\\tObservational Model: |Time Perspective: p\\t2020-09-01\\t2022-02-01\",,,,,,,,,,,,,,,,,,,,,,,,,,,,,,,,,,,,,,,,,,,,,,,,,,,,,,,,,,,,,,,,,,,,,,,,,,,,,,,,,,,,,,,,,,,,,,,,,,,,,,,,,,,,,,,,,,,,,,,,,,,,,,,,,,,,,,,,,,,,,,,,,,,,,,,,,,,,,,,,,,,,,,,,,,,,,,,,,,,,,,,,,,,,,,,,,,,,,,,,,,,,,,,,,,\\r\\n\"NCT02827071\\tOcular Imaging Study Using Advanced OCT\\t\\tUNKNOWN\\tRetinal Vascular Disorder|Macular Degeneration\\t\\tUniversity of California\",\" Los Angeles\\t\\t1000.0\\tOTHER\\tOBSERVATIONAL\\tObservational Model: |Time Perspective: p\\t2016-07\\t\",,,,,,,,,,,,,,,,,,,,,,,,,,,,,,,,,,,,,,,,,,,,,,,,,,,,,,,,,,,,,,,,,,,,,,,,,,,,,,,,,,,,,,,,,,,,,,,,,,,,,,,,,,,,,,,,,,,,,,,,,,,,,,,,,,,,,,,,,,,,,,,,,,,,,,,,,,,,,,,,,,,,,,,,,,,,,,,,,,,,,,,,,,,,,,,,,,,,,,,,,,,,,,,,,\\r\\n\"NCT04236271\\tTELEsurveillance of Patients in PostopErative Bridge surgeryAge CoronairE\\tTELE-PEACE\\tCOMPLETED\\tCoronary Artery Bypass\\tDEVICE: connected objects\\tAssistance Publique - Hôpitaux de Paris\\tGFI\\t33.0\\tOTHER\\tINTERVENTIONAL\\tAllocation: NA|Intervention Model: SINGLE_GROUP|Masking: NONE|Primary Purpose: OTHER\\t2020-03-13\\t2022-12-31\",,,,,,,,,,,,,,,,,,,,,,,,,,,,,,,,,,,,,,,,,,,,,,,,,,,,,,,,,,,,,,,,,,,,,,,,,,,,,,,,,,,,,,,,,,,,,,,,,,,,,,,,,,,,,,,,,,,,,,,,,,,,,,,,,,,,,,,,,,,,,,,,,,,,,,,,,,,,,,,,,,,,,,,,,,,,,,,,,,,,,,,,,,,,,,,,,,,,,,,,,,,,,,,,,,\\r\\n\"NCT01780571\\tCPAP/PSV Preoxygenation in Obese Patients\\t\\tCOMPLETED\\tObesity|Anaesthesia\\tPROCEDURE: CPAP 5 cm H2O + PSV 5 cm H2O\\tKarolinska Institutet\\t\\t44.0\\tOTHER\\tINTERVENTIONAL\\tAllocation: RANDOMIZED|Intervention Model: PARALLEL|Masking: SINGLE (PARTICIPANT)|Primary Purpose: PREVENTION\\t2009-05\\t2012-12\",,,,,,,,,,,,,,,,,,,,,,,,,,,,,,,,,,,,,,,,,,,,,,,,,,,,,,,,,,,,,,,,,,,,,,,,,,,,,,,,,,,,,,,,,,,,,,,,,,,,,,,,,,,,,,,,,,,,,,,,,,,,,,,,,,,,,,,,,,,,,,,,,,,,,,,,,,,,,,,,,,,,,,,,,,,,,,,,,,,,,,,,,,,,,,,,,,,,,,,,,,,,,,,,,,\\r\\n\"NCT05078671\\tPharmacokinetic Boosting of Olaparib to Improve Exposure\",\" Tolerance and Cost-effectiveness\\tPROACTIVE\\tRECRUITING\\tCancer\\tDRUG: Olaparib|DRUG: Cobicistat\\tRadboud University Medical Center\\t\\t160.0\\tOTHER\\tINTERVENTIONAL\\tAllocation: RANDOMIZED|Intervention Model: PARALLEL|Masking: NONE|Primary Purpose: TREATMENT\\t2021-12-15\\t2025-12-31\",,,,,,,,,,,,,,,,,,,,,,,,,,,,,,,,,,,,,,,,,,,,,,,,,,,,,,,,,,,,,,,,,,,,,,,,,,,,,,,,,,,,,,,,,,,,,,,,,,,,,,,,,,,,,,,,,,,,,,,,,,,,,,,,,,,,,,,,,,,,,,,,,,,,,,,,,,,,,,,,,,,,,,,,,,,,,,,,,,,,,,,,,,,,,,,,,,,,,,,,,,,,,,,,,\\r\\n\"NCT02529371\\tPre-Marketing Feasibility Evaluation of the UriCap-RM - Urine Collection in Hospitalized Male Patients\\t\\tUNKNOWN\\tUrinary Incontinence\\tDEVICE: UriCap-RM\\tG.R. Dome Medical Ltd.\\t\\t30.0\\tINDUSTRY\\tINTERVENTIONAL\\tAllocation: NA|Intervention Model: SINGLE_GROUP|Masking: NONE|Primary Purpose: SUPPORTIVE_CARE\\t2015-09\\t2015-10\",,,,,,,,,,,,,,,,,,,,,,,,,,,,,,,,,,,,,,,,,,,,,,,,,,,,,,,,,,,,,,,,,,,,,,,,,,,,,,,,,,,,,,,,,,,,,,,,,,,,,,,,,,,,,,,,,,,,,,,,,,,,,,,,,,,,,,,,,,,,,,,,,,,,,,,,,,,,,,,,,,,,,,,,,,,,,,,,,,,,,,,,,,,,,,,,,,,,,,,,,,,,,,,,,,\\r\\n\"NCT02309671\\tA Dose-response Trial Using FE 999049 in Japanese Women Undergoing in Vitro Fertilisation (IVF) / Intracytoplasmic Sperm Injection (ICSI) Treatment\\t\\tCOMPLETED\\tInfertility\\tDRUG: FE 999049|DRUG: follitropin beta\\tFerring Pharmaceuticals\\t\\t159.0\\tINDUSTRY\\tINTERVENTIONAL\\tAllocation: RANDOMIZED|Intervention Model: PARALLEL|Masking: SINGLE (OUTCOMES_ASSESSOR)|Primary Purpose: TREATMENT\\t2014-12\\t2016-09\",,,,,,,,,,,,,,,,,,,,,,,,,,,,,,,,,,,,,,,,,,,,,,,,,,,,,,,,,,,,,,,,,,,,,,,,,,,,,,,,,,,,,,,,,,,,,,,,,,,,,,,,,,,,,,,,,,,,,,,,,,,,,,,,,,,,,,,,,,,,,,,,,,,,,,,,,,,,,,,,,,,,,,,,,,,,,,,,,,,,,,,,,,,,,,,,,,,,,,,,,,,,,,,,,,\\r\\n\"NCT03876171\\tCulturally Modified Family Based Therapy for Haitian Youth in South Florida\\t\\tCOMPLETED\\tProblem Behavior\\tBEHAVIORAL: Haitian youth and family intervention study: family functioning|BEHAVIORAL: Haitian youth intervention study: youth psychoeducational|BEHAVIORAL: Haitian family intervention study: family psychoeducational|BEHAVIORAL: Diversion Programs\\tUniversity of Miami\\tNational Institute on Drug Abuse (NIDA)\\t44.0\\tOTHER\\tINTERVENTIONAL\\tAllocation: RANDOMIZED|Intervention Model: PARALLEL|Masking: SINGLE (PARTICIPANT)|Primary Purpose: TREATMENT\\t2019-04-01\\t2022-12-31\",,,,,,,,,,,,,,,,,,,,,,,,,,,,,,,,,,,,,,,,,,,,,,,,,,,,,,,,,,,,,,,,,,,,,,,,,,,,,,,,,,,,,,,,,,,,,,,,,,,,,,,,,,,,,,,,,,,,,,,,,,,,,,,,,,,,,,,,,,,,,,,,,,,,,,,,,,,,,,,,,,,,,,,,,,,,,,,,,,,,,,,,,,,,,,,,,,,,,,,,,,,,,,,,,,\\r\\n\"NCT05031871\\tPharmacokinetics of HR17031 Injection in Healthy Subjects\\t\\tCOMPLETED\\tType 2 Diabetes Mellitus\\tDRUG: HR17031 injection ；INS068 injection；SHR20004 injection|DRUG: HR17031 injection ；INS068 injection；SHR20004 injection|DRUG: HR17031 injection ；INS068 injection；SHR20004 injection|DRUG: HR17031 injection ；INS068 injection；SHR20004 injection\\tJiangsu HengRui Medicine Co.\",\" Ltd.\\t\\t24.0\\tINDUSTRY\\tINTERVENTIONAL\\tAllocation: RANDOMIZED|Intervention Model: CROSSOVER|Masking: NONE|Primary Purpose: TREATMENT\\t2021-09-02\\t2021-11-19\",,,,,,,,,,,,,,,,,,,,,,,,,,,,,,,,,,,,,,,,,,,,,,,,,,,,,,,,,,,,,,,,,,,,,,,,,,,,,,,,,,,,,,,,,,,,,,,,,,,,,,,,,,,,,,,,,,,,,,,,,,,,,,,,,,,,,,,,,,,,,,,,,,,,,,,,,,,,,,,,,,,,,,,,,,,,,,,,,,,,,,,,,,,,,,,,,,,,,,,,,,,,,,,,,\\r\\n\"NCT04769271\\tIntra-pocket Application of Tea Tree Oil Gel in the Treatment of Stage-2 Periodontitis\\t\\tCOMPLETED\\tPeriodontitis\\tPROCEDURE: Scaling and Root Planing|DRUG: Scaling and Root Planing with tea tree oil\\tAlexandria University\\t\\t30.0\\tOTHER\\tINTERVENTIONAL\\tAllocation: RANDOMIZED|Intervention Model: PARALLEL|Masking: SINGLE (OUTCOMES_ASSESSOR)|Primary Purpose: TREATMENT\\t2019-11-10\\t2020-08-25\",,,,,,,,,,,,,,,,,,,,,,,,,,,,,,,,,,,,,,,,,,,,,,,,,,,,,,,,,,,,,,,,,,,,,,,,,,,,,,,,,,,,,,,,,,,,,,,,,,,,,,,,,,,,,,,,,,,,,,,,,,,,,,,,,,,,,,,,,,,,,,,,,,,,,,,,,,,,,,,,,,,,,,,,,,,,,,,,,,,,,,,,,,,,,,,,,,,,,,,,,,,,,,,,,,\\r\\n\"NCT06044571\\tOptimizing Telehealth-delivery of a Weight Loss Intervention in Older Adults\\t\\tNOT_YET_RECRUITING\\tObesity|Multiple Chronic Conditions\\tOTHER: Prescriptive|BEHAVIORAL: Behavioral\\tUniversity of North Carolina\",\" Chapel Hill\\tNational Institute on Aging (NIA)\\t180.0\\tOTHER\\tINTERVENTIONAL\\tAllocation: RANDOMIZED|Intervention Model: SEQUENTIAL|Masking: DOUBLE (PARTICIPANT\",\" CARE_PROVIDER)|Primary Purpose: TREATMENT\\t2024-03-01\\t2027-09-01\",,,,,,,,,,,,,,,,,,,,,,,,,,,,,,,,,,,,,,,,,,,,,,,,,,,,,,,,,,,,,,,,,,,,,,,,,,,,,,,,,,,,,,,,,,,,,,,,,,,,,,,,,,,,,,,,,,,,,,,,,,,,,,,,,,,,,,,,,,,,,,,,,,,,,,,,,,,,,,,,,,,,,,,,,,,,,,,,,,,,,,,,,,,,,,,,,,,,,,,,,,,,,,,,\\r\\n\"NCT01889771\\tA Cost-effectiveness Study of Nicotine Patches Distributed Through a Quitline\\t\\tCOMPLETED\\tSmoking Cessation\\tDRUG: Nicotine Patch\\tUniversity of Colorado\",\" Denver\\t\\t1495.0\\tOTHER\\tINTERVENTIONAL\\tAllocation: RANDOMIZED|Intervention Model: PARALLEL|Masking: NONE|Primary Purpose: HEALTH_SERVICES_RESEARCH\\t2010-03\\t2012-03\",,,,,,,,,,,,,,,,,,,,,,,,,,,,,,,,,,,,,,,,,,,,,,,,,,,,,,,,,,,,,,,,,,,,,,,,,,,,,,,,,,,,,,,,,,,,,,,,,,,,,,,,,,,,,,,,,,,,,,,,,,,,,,,,,,,,,,,,,,,,,,,,,,,,,,,,,,,,,,,,,,,,,,,,,,,,,,,,,,,,,,,,,,,,,,,,,,,,,,,,,,,,,,,,,\\r\\n\"NCT03077971\\tEffectiveness of Acceptance and Commitment Therapy Self-Help for Carers of People With Multiple Sclerosis\\t\\tUNKNOWN\\tCarer Stress Syndrome\\tBEHAVIORAL: ACT Self-Help|BEHAVIORAL: ACT Self-Help with Telephone Support\\tUniversity of Nottingham\\t\\t24.0\\tOTHER\\tINTERVENTIONAL\\tAllocation: RANDOMIZED|Intervention Model: PARALLEL|Masking: SINGLE (OUTCOMES_ASSESSOR)|Primary Purpose: SUPPORTIVE_CARE\\t2016-12-01\\t2018-06\",,,,,,,,,,,,,,,,,,,,,,,,,,,,,,,,,,,,,,,,,,,,,,,,,,,,,,,,,,,,,,,,,,,,,,,,,,,,,,,,,,,,,,,,,,,,,,,,,,,,,,,,,,,,,,,,,,,,,,,,,,,,,,,,,,,,,,,,,,,,,,,,,,,,,,,,,,,,,,,,,,,,,,,,,,,,,,,,,,,,,,,,,,,,,,,,,,,,,,,,,,,,,,,,,,\\r\\n\"NCT02912871\\tSubthalamotomy by ExAblate Transcranial System to Treat Motor Features of Parkinson\\'s Disease\\t\\tCOMPLETED\\tParkinson\\'s Disease\\tOTHER: MRIgHIFU unilateral subthalamotomy\\tFundación de investigación HM\\tInsightech\\t10.0\\tOTHER\\tINTERVENTIONAL\\tAllocation: NA|Intervention Model: SINGLE_GROUP|Masking: NONE|Primary Purpose: TREATMENT\\t2016-04\\t2017-01\",,,,,,,,,,,,,,,,,,,,,,,,,,,,,,,,,,,,,,,,,,,,,,,,,,,,,,,,,,,,,,,,,,,,,,,,,,,,,,,,,,,,,,,,,,,,,,,,,,,,,,,,,,,,,,,,,,,,,,,,,,,,,,,,,,,,,,,,,,,,,,,,,,,,,,,,,,,,,,,,,,,,,,,,,,,,,,,,,,,,,,,,,,,,,,,,,,,,,,,,,,,,,,,,,,\\r\\n\"NCT03548571\\tDendritic Cell Immunotherapy Against Cancer Stem Cells in Glioblastoma Patients Receiving Standard Therapy\\tDEN-STEM\\tACTIVE_NOT_RECRUITING\\tGlioblastoma\\tBIOLOGICAL: Dendritic cell immunization|DRUG: Adjuvant temozolomide\\tOslo University Hospital\\t\\t60.0\\tOTHER\\tINTERVENTIONAL\\tAllocation: RANDOMIZED|Intervention Model: PARALLEL|Masking: NONE|Primary Purpose: TREATMENT\\t2018-04-26\\t2025-05-01\",,,,,,,,,,,,,,,,,,,,,,,,,,,,,,,,,,,,,,,,,,,,,,,,,,,,,,,,,,,,,,,,,,,,,,,,,,,,,,,,,,,,,,,,,,,,,,,,,,,,,,,,,,,,,,,,,,,,,,,,,,,,,,,,,,,,,,,,,,,,,,,,,,,,,,,,,,,,,,,,,,,,,,,,,,,,,,,,,,,,,,,,,,,,,,,,,,,,,,,,,,,,,,,,,,\\r\\n\"NCT01449071\\tStudy Evaluating the Pharmacokinetics and Safety of Epratuzumab in Japanese Systemic Lupus Erythematosus (SLE)\\t\\tCOMPLETED\\tSystemic Lupus Erythematosus\\tBIOLOGICAL: Placebo|BIOLOGICAL: Epratuzumab 400 mg|BIOLOGICAL: Epratuzumab 1200 mg|BIOLOGICAL: Epratuzumab 100 mg|BIOLOGICAL: Epratuzumab 600 mg\\tUCB Pharma\\t\\t20.0\\tINDUSTRY\\tINTERVENTIONAL\\tAllocation: RANDOMIZED|Intervention Model: PARALLEL|Masking: QUADRUPLE (PARTICIPANT\", CARE_PROVIDER, INVESTIGATOR,\" OUTCOMES_ASSESSOR)|Primary Purpose: TREATMENT\\t2011-10\\t2013-03\",,,,,,,,,,,,,,,,,,,,,,,,,,,,,,,,,,,,,,,,,,,,,,,,,,,,,,,,,,,,,,,,,,,,,,,,,,,,,,,,,,,,,,,,,,,,,,,,,,,,,,,,,,,,,,,,,,,,,,,,,,,,,,,,,,,,,,,,,,,,,,,,,,,,,,,,,,,,,,,,,,,,,,,,,,,,,,,,,,,,,,,,,,,,,,,,,,,,,,,,,,,,,,,\\r\\n\"NCT03530371\\tIntranasal Dexmedetomidine for Sedated Hearing Testing\\t\\tCOMPLETED\\tAuditory Brainstem Response\\tDRUG: Dexmedetomidine Hydrochloride\\tFondation Lenval\\t\\t60.0\\tOTHER\\tINTERVENTIONAL\\tAllocation: NA|Intervention Model: SINGLE_GROUP|Masking: NONE|Primary Purpose: DIAGNOSTIC\\t2019-05-02\\t2021-12-31\",,,,,,,,,,,,,,,,,,,,,,,,,,,,,,,,,,,,,,,,,,,,,,,,,,,,,,,,,,,,,,,,,,,,,,,,,,,,,,,,,,,,,,,,,,,,,,,,,,,,,,,,,,,,,,,,,,,,,,,,,,,,,,,,,,,,,,,,,,,,,,,,,,,,,,,,,,,,,,,,,,,,,,,,,,,,,,,,,,,,,,,,,,,,,,,,,,,,,,,,,,,,,,,,,,\\r\\n\"NCT05921071\\tDo Patients Who Received Tranexamic Acid in Vaginal Hysterectomy Loose Les Blood\",\" Comparing to Patients Who Did Not?\\t\\tRECRUITING\\tVaginal Hysterectomy\\tDRUG: Tranexamic acid|DRUG: Placebo\\tWolfson Medical Center\\t\\t150.0\\tOTHER_GOV\\tINTERVENTIONAL\\tAllocation: RANDOMIZED|Intervention Model: PARALLEL|Masking: TRIPLE (PARTICIPANT\", CARE_PROVIDER,\" OUTCOMES_ASSESSOR)|Primary Purpose: SUPPORTIVE_CARE\\t2023-01-22\\t2025-01-01\",,,,,,,,,,,,,,,,,,,,,,,,,,,,,,,,,,,,,,,,,,,,,,,,,,,,,,,,,,,,,,,,,,,,,,,,,,,,,,,,,,,,,,,,,,,,,,,,,,,,,,,,,,,,,,,,,,,,,,,,,,,,,,,,,,,,,,,,,,,,,,,,,,,,,,,,,,,,,,,,,,,,,,,,,,,,,,,,,,,,,,,,,,,,,,,,,,,,,,,,,,,,,,,\\r\\n\"NCT04974671\\tTrial Of Stereotactic Body Radiation Therapy (SBRT) for Oligoprogression on Immune Checkpoint Inhibitors (ICI) in Metastatic Renal Cell Carcinoma\\t\\tRECRUITING\\tRenal Cell Carcinoma|Metastatic Renal Cell Carcinoma|Oligoprogressive|Progression\\tRADIATION: Stereotactic Body Radiation Therapy\\tYale University\\t\\t30.0\\tOTHER\\tINTERVENTIONAL\\tAllocation: NA|Intervention Model: SINGLE_GROUP|Masking: NONE|Primary Purpose: TREATMENT\\t2022-08-08\\t2027-04-01\",,,,,,,,,,,,,,,,,,,,,,,,,,,,,,,,,,,,,,,,,,,,,,,,,,,,,,,,,,,,,,,,,,,,,,,,,,,,,,,,,,,,,,,,,,,,,,,,,,,,,,,,,,,,,,,,,,,,,,,,,,,,,,,,,,,,,,,,,,,,,,,,,,,,,,,,,,,,,,,,,,,,,,,,,,,,,,,,,,,,,,,,,,,,,,,,,,,,,,,,,,,,,,,,,,\\r\\n\"NCT00080171\\tOsteoarthritis Initiative (OAI): A Knee Health Study\\t\\tCOMPLETED\\tOsteoarthritis|Knee Osteoarthritis\\t\\tNational Institute of Arthritis and Musculoskeletal and Skin Diseases (NIAMS)\\tGlaxoSmithKline|Merck Sharp & Dohme LLC|Novartis|Pfizer\\t4796.0\\tNIH\\tOBSERVATIONAL\\tObservational Model: |Time Perspective: p\\t2004-02\\t2015-10\",,,,,,,,,,,,,,,,,,,,,,,,,,,,,,,,,,,,,,,,,,,,,,,,,,,,,,,,,,,,,,,,,,,,,,,,,,,,,,,,,,,,,,,,,,,,,,,,,,,,,,,,,,,,,,,,,,,,,,,,,,,,,,,,,,,,,,,,,,,,,,,,,,,,,,,,,,,,,,,,,,,,,,,,,,,,,,,,,,,,,,,,,,,,,,,,,,,,,,,,,,,,,,,,,,\\r\\n\"NCT00368771\\tA Six-month Study to Compare Outcome Differences and Visceral Response ... Irritable Bowel Syndrome\\t\\tCOMPLETED\\tIrritable Bowel Syndrome\\tBEHAVIORAL: IBS Stress Management|BEHAVIORAL: IBS Symptom Management|BEHAVIORAL: IBS Educational Training\\tUniversity of California\",\" Los Angeles\\tNational Institute of Nursing Research (NINR)\\t163.0\\tOTHER\\tINTERVENTIONAL\\tAllocation: RANDOMIZED|Intervention Model: PARALLEL|Masking: NONE|Primary Purpose: TREATMENT\\t2002-07\\t2010-05\",,,,,,,,,,,,,,,,,,,,,,,,,,,,,,,,,,,,,,,,,,,,,,,,,,,,,,,,,,,,,,,,,,,,,,,,,,,,,,,,,,,,,,,,,,,,,,,,,,,,,,,,,,,,,,,,,,,,,,,,,,,,,,,,,,,,,,,,,,,,,,,,,,,,,,,,,,,,,,,,,,,,,,,,,,,,,,,,,,,,,,,,,,,,,,,,,,,,,,,,,,,,,,,,,\\r\\n\"NCT04979871\\tSARS-CoV-2 Antibodies and Virus Neutralisation in a Cohort Vaccinted Against COVID-19\\tDER-CoV2-001\\tCOMPLETED\\tVaccine Reaction\\tPROCEDURE: Venous bleeding\\tUniversity of Zurich\\t\\t50.0\\tOTHER\\tOBSERVATIONAL\\tObservational Model: |Time Perspective: p\\t2021-07-22\\t2021-12-31\",,,,,,,,,,,,,,,,,,,,,,,,,,,,,,,,,,,,,,,,,,,,,,,,,,,,,,,,,,,,,,,,,,,,,,,,,,,,,,,,,,,,,,,,,,,,,,,,,,,,,,,,,,,,,,,,,,,,,,,,,,,,,,,,,,,,,,,,,,,,,,,,,,,,,,,,,,,,,,,,,,,,,,,,,,,,,,,,,,,,,,,,,,,,,,,,,,,,,,,,,,,,,,,,,,\\r\\n\"NCT04097171\\tThe Effect of Diet Composition on Performance\", Expenditure, Blood Lipids,\" and Appetite Hormones in Highly Trained Cyclists\\tDCAP\\tCOMPLETED\\tEndurance Cycling Performance\\tOTHER: Diet\\tTexas Christian University\\t\\t34.0\\tOTHER\\tINTERVENTIONAL\\tAllocation: RANDOMIZED|Intervention Model: CROSSOVER|Masking: NONE|Primary Purpose: BASIC_SCIENCE\\t2019-11-11\\t2020-03-30\",,,,,,,,,,,,,,,,,,,,,,,,,,,,,,,,,,,,,,,,,,,,,,,,,,,,,,,,,,,,,,,,,,,,,,,,,,,,,,,,,,,,,,,,,,,,,,,,,,,,,,,,,,,,,,,,,,,,,,,,,,,,,,,,,,,,,,,,,,,,,,,,,,,,,,,,,,,,,,,,,,,,,,,,,,,,,,,,,,,,,,,,,,,,,,,,,,,,,,,,,,,,,,,\\r\\n\"NCT06199271\\tNeoadjuvant Adebrelimab Plus Dalpiciclib in Head and Neck Squamous Cell Carcinoma\\t\\tNOT_YET_RECRUITING\\tHead and Neck Squamous Cell Carcinoma\\tDRUG: Adebrelimab and dalpiciclib\\tZhongzheng Xiang\\t\\t30.0\\tOTHER\\tINTERVENTIONAL\\tAllocation: NA|Intervention Model: SINGLE_GROUP|Masking: NONE|Primary Purpose: TREATMENT\\t2024-01-31\\t2026-12-31\",,,,,,,,,,,,,,,,,,,,,,,,,,,,,,,,,,,,,,,,,,,,,,,,,,,,,,,,,,,,,,,,,,,,,,,,,,,,,,,,,,,,,,,,,,,,,,,,,,,,,,,,,,,,,,,,,,,,,,,,,,,,,,,,,,,,,,,,,,,,,,,,,,,,,,,,,,,,,,,,,,,,,,,,,,,,,,,,,,,,,,,,,,,,,,,,,,,,,,,,,,,,,,,,,,\\r\\n\"NCT04032171\\tStudy of Evobrutinib in Participants With RMS\\t\\tTERMINATED\\tRelapsing-remitting Multiple Sclerosis\\tDRUG: Evobrutinib|DRUG: Avonex®|DRUG: Avonex® matched Placebo|DRUG: Evobrutinib matched Placebo\\tEMD Serono Research & Development Institute\",\" Inc.\\tMerck KGaA\", Darmstadt,\" Germany\\t1.0\\tINDUSTRY\\tINTERVENTIONAL\\tAllocation: RANDOMIZED|Intervention Model: PARALLEL|Masking: QUADRUPLE (PARTICIPANT\", CARE_PROVIDER, INVESTIGATOR,\" OUTCOMES_ASSESSOR)|Primary Purpose: TREATMENT\\t2019-09-10\\t2020-05-20\",,,,,,,,,,,,,,,,,,,,,,,,,,,,,,,,,,,,,,,,,,,,,,,,,,,,,,,,,,,,,,,,,,,,,,,,,,,,,,,,,,,,,,,,,,,,,,,,,,,,,,,,,,,,,,,,,,,,,,,,,,,,,,,,,,,,,,,,,,,,,,,,,,,,,,,,,,,,,,,,,,,,,,,,,,,,,,,,,,,,,,,,,,,,,,,,,,,,,,,,,,,,\\r\\n\"NCT05674071\\tApplying an Osteopathic Intervention to Improve Mental Health Symptoms: a Mixed-methods Feasibility Study Protocol.\\t\\tCOMPLETED\\tMental Health Issue\\tBEHAVIORAL: Articulation/HVT|BEHAVIORAL: Soft-tissue massage|BEHAVIORAL: Craniosacral techniques|BEHAVIORAL: Combination of the three interventions: HVT\",\" soft-tissue and craniosacral techniques\\tSwansea University\\tOsteopathic Foundation|University College of Osteopathy\\t32.0\\tOTHER\\tINTERVENTIONAL\\tAllocation: RANDOMIZED|Intervention Model: PARALLEL|Masking: SINGLE (OUTCOMES_ASSESSOR)|Primary Purpose: TREATMENT\\t2022-12-20\\t2023-08-01\",,,,,,,,,,,,,,,,,,,,,,,,,,,,,,,,,,,,,,,,,,,,,,,,,,,,,,,,,,,,,,,,,,,,,,,,,,,,,,,,,,,,,,,,,,,,,,,,,,,,,,,,,,,,,,,,,,,,,,,,,,,,,,,,,,,,,,,,,,,,,,,,,,,,,,,,,,,,,,,,,,,,,,,,,,,,,,,,,,,,,,,,,,,,,,,,,,,,,,,,,,,,,,,,,\\r\\n\"NCT00858871\\tFirst Line Hepato Cellular Carcinoma (HCC)\\tBRISK FL\\tCOMPLETED\\tHepato Cellular Carcinoma (HCC)\\tDRUG: Brivanib|DRUG: Placebo|DRUG: Sorafenib|DRUG: Placebo\\tBristol-Myers Squibb\\t\\t1714.0\\tINDUSTRY\\tINTERVENTIONAL\\tAllocation: RANDOMIZED|Intervention Model: PARALLEL|Masking: QUADRUPLE (PARTICIPANT\", CARE_PROVIDER, INVESTIGATOR,\" OUTCOMES_ASSESSOR)|Primary Purpose: TREATMENT\\t2009-05\\t2013-09\",,,,,,,,,,,,,,,,,,,,,,,,,,,,,,,,,,,,,,,,,,,,,,,,,,,,,,,,,,,,,,,,,,,,,,,,,,,,,,,,,,,,,,,,,,,,,,,,,,,,,,,,,,,,,,,,,,,,,,,,,,,,,,,,,,,,,,,,,,,,,,,,,,,,,,,,,,,,,,,,,,,,,,,,,,,,,,,,,,,,,,,,,,,,,,,,,,,,,,,,,,,,,,,\\r\\n\"NCT01776671\\tOnce Daily Gabapentin in the Treatment of Post Amputation Pain\\t\\tUNKNOWN\\tPain|Quality of Life\\tDRUG: Gralise\\tChicago Anesthesia Pain Specialists\\t\\t16.0\\tOTHER\\tINTERVENTIONAL\\tAllocation: NA|Intervention Model: SINGLE_GROUP|Masking: NONE|Primary Purpose: TREATMENT\\t2013-02\\t2018-12\",,,,,,,,,,,,,,,,,,,,,,,,,,,,,,,,,,,,,,,,,,,,,,,,,,,,,,,,,,,,,,,,,,,,,,,,,,,,,,,,,,,,,,,,,,,,,,,,,,,,,,,,,,,,,,,,,,,,,,,,,,,,,,,,,,,,,,,,,,,,,,,,,,,,,,,,,,,,,,,,,,,,,,,,,,,,,,,,,,,,,,,,,,,,,,,,,,,,,,,,,,,,,,,,,,\\r\\n\"NCT01363271\\tCost Study of Linezolid Versus Vancomycin Among Previously Hospitalized Patients\\t\\tCOMPLETED\\tComplicated Skin and Structure Infection|Nosocomial Pneumonia\\tDRUG: Linezolid|DRUG: Vancomycin|DRUG: Linezolid|DRUG: Vancomycin\\tPfizer\\tUniversity of Maryland|Lodise & Lodise\",\" LLC\\t7260.0\\tINDUSTRY\\tOBSERVATIONAL\\tObservational Model: |Time Perspective: p\\t2011-05\\t2012-05\",,,,,,,,,,,,,,,,,,,,,,,,,,,,,,,,,,,,,,,,,,,,,,,,,,,,,,,,,,,,,,,,,,,,,,,,,,,,,,,,,,,,,,,,,,,,,,,,,,,,,,,,,,,,,,,,,,,,,,,,,,,,,,,,,,,,,,,,,,,,,,,,,,,,,,,,,,,,,,,,,,,,,,,,,,,,,,,,,,,,,,,,,,,,,,,,,,,,,,,,,,,,,,,,,\\r\\n\"NCT01282671\\tEffects of Deep Breathing Exercises Two Months After Cardiac Surgery\\t\\tCOMPLETED\\tCABG|Valve Surgery\\tOTHER: Breathing exercises\\tUppsala University\\tThe Swedish Research Council|Örebro County Council\\t357.0\\tOTHER\\tINTERVENTIONAL\\tAllocation: RANDOMIZED|Intervention Model: PARALLEL|Masking: SINGLE (OUTCOMES_ASSESSOR)|Primary Purpose: TREATMENT\\t2007-09\\t2012-08\",,,,,,,,,,,,,,,,,,,,,,,,,,,,,,,,,,,,,,,,,,,,,,,,,,,,,,,,,,,,,,,,,,,,,,,,,,,,,,,,,,,,,,,,,,,,,,,,,,,,,,,,,,,,,,,,,,,,,,,,,,,,,,,,,,,,,,,,,,,,,,,,,,,,,,,,,,,,,,,,,,,,,,,,,,,,,,,,,,,,,,,,,,,,,,,,,,,,,,,,,,,,,,,,,,\\r\\n\"NCT05683171\\tA Phase 1/2\",\" Open-label Study of Valemetostat in Combination With Rituximab and Lenalidomide in Relapsed or Refractory Follicular Lymphoma\\t\\tRECRUITING\\tLymphoma\\tDRUG: Rituximab|DRUG: Lenalidomide|DRUG: Valemetostat\\tM.D. Anderson Cancer Center\\tDaiichi Sankyo\\t60.0\\tOTHER\\tINTERVENTIONAL\\tAllocation: NA|Intervention Model: SINGLE_GROUP|Masking: NONE|Primary Purpose: TREATMENT\\t2023-05-19\\t2027-09-30\",,,,,,,,,,,,,,,,,,,,,,,,,,,,,,,,,,,,,,,,,,,,,,,,,,,,,,,,,,,,,,,,,,,,,,,,,,,,,,,,,,,,,,,,,,,,,,,,,,,,,,,,,,,,,,,,,,,,,,,,,,,,,,,,,,,,,,,,,,,,,,,,,,,,,,,,,,,,,,,,,,,,,,,,,,,,,,,,,,,,,,,,,,,,,,,,,,,,,,,,,,,,,,,,,\\r\\n\"NCT05334771\\tEarly Detection of Endolymphatic Hydrops in Hypothyroid Patients\\t\\tNOT_YET_RECRUITING\\tHypothyroidism\\tDEVICE: Dual band pure tune audiometer\\tAssiut University\\t\\t50.0\\tOTHER\\tOBSERVATIONAL\\tObservational Model: |Time Perspective: p\\t2022-09\\t2025-04\",,,,,,,,,,,,,,,,,,,,,,,,,,,,,,,,,,,,,,,,,,,,,,,,,,,,,,,,,,,,,,,,,,,,,,,,,,,,,,,,,,,,,,,,,,,,,,,,,,,,,,,,,,,,,,,,,,,,,,,,,,,,,,,,,,,,,,,,,,,,,,,,,,,,,,,,,,,,,,,,,,,,,,,,,,,,,,,,,,,,,,,,,,,,,,,,,,,,,,,,,,,,,,,,,,\\r\\n\"NCT04718571\\tAn Ecological Analysis of Nontuberculous Mycobacteria in the Geneva Area (2015-2020)\\t\\tCOMPLETED\\tEcology of Nontubercuous Mycobacteria|Geneva Area\\t\\tUniversity Hospital\",\" Geneva\\t\\t231.0\\tOTHER\\tOBSERVATI'"
     ]
    }
   ],
   "source": [
    "dbutils.fs.head(FilePath)"
   ]
  },
  {
   "cell_type": "code",
   "execution_count": 0,
   "metadata": {
    "application/vnd.databricks.v1+cell": {
     "cellMetadata": {
      "byteLimit": 2048000,
      "rowLimit": 10000
     },
     "inputWidgets": {},
     "nuid": "db556324-2968-4a52-a7fc-499dbb2d4500",
     "showTitle": false,
     "title": ""
    }
   },
   "outputs": [
    {
     "output_type": "stream",
     "name": "stdout",
     "output_type": "stream",
     "text": [
      "Out[12]: ['\"Id\\tStudy Title\\tAcronym\\tStatus\\tConditions\\tInterventions\\tSponsor\\tCollaborators\\tEnrollment\\tFunder Type\\tType\\tStudy Design\\tStart\\tCompletion\",,,,,,,,,,,,,,,,,,,,,,,,,,,,,,,,,,,,,,,,,,,,,,,,,,,,,,,,,,,,,,,,,,,,,,,,,,,,,,,,,,,,,,,,,,,,,,,,,,,,,,,,,,,,,,,,,,,,,,,,,,,,,,,,,,,,,,,,,,,,,,,,,,,,,,,,,,,,,,,,,,,,,,,,,,,,,,,,,,,,,,,,,,,,,,,,,,,,,,,,,,,,,,,,,,',\n '\"NCT03630471\\tEffectiveness of a Problem-solving Intervention for Common Adolescent Mental Health Problems in India\\tPRIDE\\tCOMPLETED\\tMental Health Issue (E.G.\", Depression, Psychosis, Personality Disorder,\" Substance Abuse)\\tBEHAVIORAL: PRIDE \\'Step 1\\' problem-solving intervention|BEHAVIORAL: Enhanced usual care\\tSangath\\tHarvard Medical School (HMS and HSDM)|London School of Hygiene and Tropical Medicine\\t250.0\\tOTHER\\tINTERVENTIONAL\\tAllocation: RANDOMIZED|Intervention Model: PARALLEL|Masking: DOUBLE (INVESTIGATOR\",\" OUTCOMES_ASSESSOR)|Primary Purpose: TREATMENT\\t2018-08-20\\t2019-02-28\",,,,,,,,,,,,,,,,,,,,,,,,,,,,,,,,,,,,,,,,,,,,,,,,,,,,,,,,,,,,,,,,,,,,,,,,,,,,,,,,,,,,,,,,,,,,,,,,,,,,,,,,,,,,,,,,,,,,,,,,,,,,,,,,,,,,,,,,,,,,,,,,,,,,,,,,,,,,,,,,,,,,,,,,,,,,,,,,,,,,,,,,,,,,,,,,,,,,,,,,,,,,,',\n '\"NCT05992571\\tOral Ketone Monoester Supplementation and Resting-state Brain Connectivity\\t\\tRECRUITING\\tCerebrovascular Function|Cognition\\tOTHER: Placebo|DIETARY_SUPPLEMENT: β-OHB\\tMcMaster University\\tAlzheimer\\'s Society of Brant\", Haldimand Norfolk,\" Hamilton Halton\\t30.0\\tOTHER\\tINTERVENTIONAL\\tAllocation: RANDOMIZED|Intervention Model: CROSSOVER|Masking: TRIPLE (PARTICIPANT\", INVESTIGATOR,\" OUTCOMES_ASSESSOR)|Primary Purpose: BASIC_SCIENCE\\t2023-10-25\\t2024-08\",,,,,,,,,,,,,,,,,,,,,,,,,,,,,,,,,,,,,,,,,,,,,,,,,,,,,,,,,,,,,,,,,,,,,,,,,,,,,,,,,,,,,,,,,,,,,,,,,,,,,,,,,,,,,,,,,,,,,,,,,,,,,,,,,,,,,,,,,,,,,,,,,,,,,,,,,,,,,,,,,,,,,,,,,,,,,,,,,,,,,,,,,,,,,,,,,,,,,,,,,,,,,,']"
     ]
    }
   ],
   "source": [
    "RDD = sc.textFile(FilePath)\n",
    "RDD.take(3)"
   ]
  },
  {
   "cell_type": "code",
   "execution_count": 0,
   "metadata": {
    "application/vnd.databricks.v1+cell": {
     "cellMetadata": {
      "byteLimit": 2048000,
      "rowLimit": 10000
     },
     "inputWidgets": {},
     "nuid": "326ff23b-ee0f-4ce3-8504-2c41ec8969ab",
     "showTitle": false,
     "title": ""
    }
   },
   "outputs": [
    {
     "output_type": "stream",
     "name": "stdout",
     "output_type": "stream",
     "text": [
      "Out[13]: [['Id',\n  'Study Title',\n  'Acronym',\n  'Status',\n  'Conditions',\n  'Interventions',\n  'Sponsor',\n  'Collaborators',\n  'Enrollment',\n  'Funder Type',\n  'Type',\n  'Study Design',\n  'Start',\n  'Completion'],\n ['NCT03630471',\n  'Effectiveness of a Problem-solving Intervention for Common Adolescent Mental Health Problems in India',\n  'PRIDE',\n  'COMPLETED',\n  'Mental Health Issue (E.G., Depression, Psychosis, Personality Disorder, Substance Abuse)',\n  \"BEHAVIORAL: PRIDE 'Step 1' problem-solving intervention|BEHAVIORAL: Enhanced usual care\",\n  'Sangath',\n  'Harvard Medical School (HMS and HSDM)|London School of Hygiene and Tropical Medicine',\n  '250.0',\n  'OTHER',\n  'INTERVENTIONAL',\n  'Allocation: RANDOMIZED|Intervention Model: PARALLEL|Masking: DOUBLE (INVESTIGATOR, OUTCOMES_ASSESSOR)|Primary Purpose: TREATMENT',\n  '2018-08-20',\n  '2019-02-28,'],\n ['NCT05992571',\n  'Oral Ketone Monoester Supplementation and Resting-state Brain Connectivity',\n  '',\n  'RECRUITING',\n  'Cerebrovascular Function|Cognition',\n  'OTHER: Placebo|DIETARY_SUPPLEMENT: β-OHB',\n  'McMaster University',\n  \"Alzheimer's Society of Brant, Haldimand Norfolk, Hamilton Halton\",\n  '30.0',\n  'OTHER',\n  'INTERVENTIONAL',\n  'Allocation: RANDOMIZED|Intervention Model: CROSSOVER|Masking: TRIPLE (PARTICIPANT, INVESTIGATOR, OUTCOMES_ASSESSOR)|Primary Purpose: BASIC_SCIENCE',\n  '2023-10-25',\n  '2024-08']]"
     ]
    }
   ],
   "source": [
    "Delimiter=\"\\t\"\n",
    "RDD_Step1=RDD.map(lambda s: s.replace(',,', ''))\n",
    "RDD_Step2=RDD_Step1.map(lambda s: s.replace('\"', ''))\n",
    "RDD_Cleaned=RDD_Step2.map(lambda s: s.split(Delimiter))\n",
    "RDD_Cleaned.take(3)"
   ]
  },
  {
   "cell_type": "code",
   "execution_count": 0,
   "metadata": {
    "application/vnd.databricks.v1+cell": {
     "cellMetadata": {
      "byteLimit": 2048000,
      "rowLimit": 10000
     },
     "inputWidgets": {},
     "nuid": "fea7a405-00fa-495a-be70-b0e485779744",
     "showTitle": false,
     "title": ""
    }
   },
   "outputs": [],
   "source": [
    "def set_length(row, length):\n",
    "    return row + ([None] * (length - len(row)))\n",
    "\n",
    "RDD_Final = RDD_Cleaned.map(lambda row: set_length(row, 14))"
   ]
  },
  {
   "cell_type": "code",
   "execution_count": 0,
   "metadata": {
    "application/vnd.databricks.v1+cell": {
     "cellMetadata": {
      "byteLimit": 2048000,
      "rowLimit": 10000
     },
     "inputWidgets": {},
     "nuid": "72cf5c13-5315-4b4b-b527-aa599e37d056",
     "showTitle": false,
     "title": ""
    }
   },
   "outputs": [
    {
     "output_type": "stream",
     "name": "stdout",
     "output_type": "stream",
     "text": [
      "Number Of Distinct Studies: 481102\n"
     ]
    }
   ],
   "source": [
    "#Question Number 1\n",
    "\n",
    "Header = RDD_Final.first()\n",
    "Study_Count_Distinct = RDD_Final.filter(lambda x: x != Header).map(lambda x: x[1]).distinct().count()\n",
    "print(\"Number Of Distinct Studies:\" , Study_Count_Distinct)"
   ]
  },
  {
   "cell_type": "code",
   "execution_count": 0,
   "metadata": {
    "application/vnd.databricks.v1+cell": {
     "cellMetadata": {
      "byteLimit": 2048000,
      "rowLimit": 10000
     },
     "inputWidgets": {},
     "nuid": "5aa57426-ef46-45c8-beba-32d0a9351db3",
     "showTitle": false,
     "title": ""
    }
   },
   "outputs": [
    {
     "output_type": "stream",
     "name": "stdout",
     "output_type": "stream",
     "text": [
      "Types With Frequencies:\nINTERVENTIONAL : 371382\nOBSERVATIONAL : 110221\nEXPANDED_ACCESS : 928\nBlank Values: 889\n"
     ]
    }
   ],
   "source": [
    "#Question Number 2\n",
    "\n",
    "Header = RDD_Final.first()\n",
    "Type_Values = RDD_Final.filter(lambda row: row != Header).map(lambda row: row[10])\n",
    "Blank_Count = Type_Values.filter(lambda value: value == '').count()\n",
    "Type_Values_NotNull = Type_Values.filter(lambda value: value is not None and value != '')\n",
    "Type_Frequencies = Type_Values_NotNull.countByValue().items()\n",
    "Sorted_Type_Frequencies = sorted(Type_Frequencies, key=lambda x: x[1], reverse=True)\n",
    "print(\"Types With Frequencies:\")\n",
    "for type, frequency in Sorted_Type_Frequencies:\n",
    "    print(type, \":\", frequency)\n",
    "\n",
    "print(\"Blank Values:\", Blank_Count)"
   ]
  },
  {
   "cell_type": "code",
   "execution_count": 0,
   "metadata": {
    "application/vnd.databricks.v1+cell": {
     "cellMetadata": {
      "byteLimit": 2048000,
      "rowLimit": 10000
     },
     "inputWidgets": {},
     "nuid": "59b5e101-e51a-4d5d-8d7e-f31b226c3eec",
     "showTitle": false,
     "title": ""
    }
   },
   "outputs": [
    {
     "output_type": "stream",
     "name": "stdout",
     "output_type": "stream",
     "text": [
      "Top 5 Conditions With Frequencies:\nHealthy : 9731\nBreast Cancer : 7502\nObesity : 6549\nStroke : 4072\nHypertension : 4020\n"
     ]
    }
   ],
   "source": [
    "#Question Number 3\n",
    "\n",
    "Conditions = RDD_Final.map(lambda row: row[4].split('|')).flatMap(lambda conditions: conditions)\n",
    "Condition_Frequencies = Conditions.countByValue().items()\n",
    "Sorted_Condition_Frequencies = sorted(Condition_Frequencies, key=lambda x: x[1], reverse=True)\n",
    "print(\"Top 5 Conditions With Frequencies:\")\n",
    "for condition, frequency in Sorted_Condition_Frequencies[:5]:\n",
    "    print(condition, \":\", frequency)"
   ]
  },
  {
   "cell_type": "code",
   "execution_count": 0,
   "metadata": {
    "application/vnd.databricks.v1+cell": {
     "cellMetadata": {
      "byteLimit": 2048000,
      "rowLimit": 10000
     },
     "inputWidgets": {},
     "nuid": "c642b965-d969-48a6-bb9c-e2c9a41ea40a",
     "showTitle": false,
     "title": ""
    }
   },
   "outputs": [
    {
     "output_type": "stream",
     "name": "stdout",
     "output_type": "stream",
     "text": [
      "Out[18]: True"
     ]
    }
   ],
   "source": [
    "dbutils.fs.cp(\"/FileStore/tables/pharma.zip\",\"file:/tmp/\")"
   ]
  },
  {
   "cell_type": "code",
   "execution_count": 0,
   "metadata": {
    "application/vnd.databricks.v1+cell": {
     "cellMetadata": {
      "byteLimit": 2048000,
      "rowLimit": 10000
     },
     "inputWidgets": {},
     "nuid": "1ff0caf3-471c-47b4-8bc1-91845fd41e92",
     "showTitle": false,
     "title": ""
    }
   },
   "outputs": [
    {
     "output_type": "stream",
     "name": "stdout",
     "output_type": "stream",
     "text": [
      "Archive:  /tmp/pharma.zip\n  inflating: /tmp/pharma.csv         \n"
     ]
    }
   ],
   "source": [
    "%sh\n",
    "unzip -d /tmp/ /tmp/pharma.zip"
   ]
  },
  {
   "cell_type": "code",
   "execution_count": 0,
   "metadata": {
    "application/vnd.databricks.v1+cell": {
     "cellMetadata": {
      "byteLimit": 2048000,
      "rowLimit": 10000
     },
     "inputWidgets": {},
     "nuid": "94657aa4-2b9d-4842-a93c-b2718aaa2a97",
     "showTitle": false,
     "title": ""
    }
   },
   "outputs": [
    {
     "output_type": "stream",
     "name": "stdout",
     "output_type": "stream",
     "text": [
      "/tmp/pharma.csv\n"
     ]
    }
   ],
   "source": [
    "%sh\n",
    "ls /tmp/pharma.csv"
   ]
  },
  {
   "cell_type": "code",
   "execution_count": 0,
   "metadata": {
    "application/vnd.databricks.v1+cell": {
     "cellMetadata": {
      "byteLimit": 2048000,
      "rowLimit": 10000
     },
     "inputWidgets": {},
     "nuid": "9859bf9d-ef8a-49f2-bbbf-b85ed74d1736",
     "showTitle": false,
     "title": ""
    }
   },
   "outputs": [
    {
     "output_type": "stream",
     "name": "stdout",
     "output_type": "stream",
     "text": [
      "Out[21]: True"
     ]
    }
   ],
   "source": [
    "dbutils.fs.mv(\"file:/tmp/pharma.csv\", \"/FileStore/tables/pharma\" , True)"
   ]
  },
  {
   "cell_type": "code",
   "execution_count": 0,
   "metadata": {
    "application/vnd.databricks.v1+cell": {
     "cellMetadata": {
      "byteLimit": 2048000,
      "rowLimit": 10000
     },
     "inputWidgets": {},
     "nuid": "0dce6fe9-e4ce-480f-b8eb-cbaa2cf6ed7e",
     "showTitle": false,
     "title": ""
    }
   },
   "outputs": [
    {
     "output_type": "stream",
     "name": "stdout",
     "output_type": "stream",
     "text": [
      "Out[22]: [FileInfo(path='dbfs:/FileStore/tables/pharma', name='pharma', size=678999, modificationTime=1712312774000)]"
     ]
    }
   ],
   "source": [
    "dbutils.fs.ls(\"/FileStore/tables/pharma\" )"
   ]
  },
  {
   "cell_type": "code",
   "execution_count": 0,
   "metadata": {
    "application/vnd.databricks.v1+cell": {
     "cellMetadata": {
      "byteLimit": 2048000,
      "rowLimit": 10000
     },
     "inputWidgets": {},
     "nuid": "57b7fc1b-04b2-4f02-8af8-fa0c8d9983cb",
     "showTitle": false,
     "title": ""
    }
   },
   "outputs": [
    {
     "output_type": "stream",
     "name": "stdout",
     "output_type": "stream",
     "text": [
      "Out[23]: ['\"Company\",\"Parent_Company\",\"Penalty_Amount\",\"Subtraction_From_Penalty\",\"Penalty_Amount_Adjusted_For_Eliminating_Multiple_Counting\",\"Penalty_Year\",\"Penalty_Date\",\"Offense_Group\",\"Primary_Offense\",\"Secondary_Offense\",\"Description\",\"Level_of_Government\",\"Action_Type\",\"Agency\",\"Civil/Criminal\",\"Prosecution_Agreement\",\"Court\",\"Case_ID\",\"Private_Litigation_Case_Title\",\"Lawsuit_Resolution\",\"Facility_State\",\"City\",\"Address\",\"Zip\",\"NAICS_Code\",\"NAICS_Translation\",\"HQ_Country_of_Parent\",\"HQ_State_of_Parent\",\"Ownership_Structure\",\"Parent_Company_Stock_Ticker\",\"Major_Industry_of_Parent\",\"Specific_Industry_of_Parent\",\"Info_Source\",\"Notes\"',\n '\"Abbott Laboratories\",\"Abbott Laboratories\",\"$5,475,000\",\"$0\",\"$5,475,000\",\"2013\",\"20131227\",\"government-contracting-related offenses\",\"False Claims Act and related\",\"kickbacks and bribery\",\"Abbott Laboratories agreed to $5.475 million to resolve allegations that it violated the False Claims Act by paying kickbacks to induce doctors to implant the company\\'s carotid, biliary and peripheral vascular products.\",\"federal\",\"agency action\",\"Justice Department Civil Division\",\"civil\",\"\",\"\",\"\",\"\",\"\",\"\",\"\",\"\",\"\",\"\",\"\",\"USA\",\"Illinois\",\"publicly traded\",\"ABT\",\"pharmaceuticals\",\"pharmaceuticals\",\"https://www.justice.gov/opa/pr/abbott-laboratories-pays-us-5475-million-settle-claims-company-paid-kickbacks-physicians\",\"\"',\n '\"Abbott Laboratories Inc.\",\"AbbVie\",\"$1,500,000,000\",\"$0\",\"$1,500,000,000\",\"2012\",\"20120507\",\"healthcare-related offenses\",\"off-label or unapproved promotion of medical products\",\"\",\"Global Health Care Company Abbott Laboratories Inc. has pleaded guilty and agreed to pay $1.5 billion to resolve its criminal and civil liability arising from the company\\'s unlawful promotion of the prescription drug Depakote for uses not approved as safe and effective by the Food and Drug Administration. The resolution - the second largest payment by a drug company - includes a criminal fine and forfeiture totaling $700 million and civil settlements with the federal government and the states totaling $800 million. Abbott also will be subject to court-supervised probation and reporting obligations for Abbotts CEO and Board of Directors.\",\"federal\",\"agency action\",\"Food and Drug Administration referral to the Justice Department\",\"civil and criminal\",\"\",\"\",\"\",\"\",\"\",\"\",\"\",\"\",\"\",\"\",\"\",\"USA\",\"Illinois\",\"publicly traded\",\"ABBV\",\"pharmaceuticals\",\"pharmaceuticals\",\"http://www.justice.gov/opa/pr/abbott-labs-pay-15-billion-resolve-criminal-civil-investigations-label-promotion-depakote\",\"\"']"
     ]
    }
   ],
   "source": [
    "rdd = sc.textFile(\"/FileStore/tables/pharma\")\n",
    "rdd.take(3)"
   ]
  },
  {
   "cell_type": "code",
   "execution_count": 0,
   "metadata": {
    "application/vnd.databricks.v1+cell": {
     "cellMetadata": {
      "byteLimit": 2048000,
      "rowLimit": 10000
     },
     "inputWidgets": {},
     "nuid": "bcfa55a1-1df0-4455-b0c7-8bc0805a38af",
     "showTitle": false,
     "title": ""
    }
   },
   "outputs": [
    {
     "output_type": "stream",
     "name": "stdout",
     "output_type": "stream",
     "text": [
      "Top 10 Non-Pharmaceutical Sponsors With Clinical Trials:\nNational Cancer Institute (NCI) : 3410\nAssiut University : 3335\nCairo University : 3023\nAssistance Publique - Hôpitaux de Paris : 2951\nMayo Clinic : 2766\nM.D. Anderson Cancer Center : 2702\nNovartis Pharmaceuticals : 2393\nNational Institute of Allergy and Infectious Diseases (NIAID) : 2340\nMassachusetts General Hospital : 2263\nNational Taiwan University Hospital : 2181\n"
     ]
    }
   ],
   "source": [
    "#Question Number 4\n",
    "\n",
    "def parse_csv(line):\n",
    "    return next(csv.reader([line]))\n",
    "\n",
    "header = rdd.first()\n",
    "rdd_pharma = rdd.filter(lambda line: line != header).map(parse_csv)\n",
    "rdd_pharmaceutical = rdd_pharma.map(lambda line: line[1]).distinct()\n",
    "rdd_set = set(rdd_pharmaceutical.collect())\n",
    "rdd_trials = RDD_Final.filter(lambda x: x[6] not in rdd_set)\n",
    "sponsor_counts = rdd_trials.map(lambda x: (x[6], 1)).reduceByKey(lambda a, b: a + b)\n",
    "top_sponsors = sponsor_counts.sortBy(lambda x: x[1], ascending=False).take(10)\n",
    "print(\"Top 10 Non-Pharmaceutical Sponsors With Clinical Trials:\")\n",
    "for sponsor, count in top_sponsors:\n",
    "    print(sponsor, \":\", count)"
   ]
  },
  {
   "cell_type": "code",
   "execution_count": 0,
   "metadata": {
    "application/vnd.databricks.v1+cell": {
     "cellMetadata": {
      "byteLimit": 2048000,
      "rowLimit": 10000
     },
     "inputWidgets": {},
     "nuid": "30e92be1-1a52-4b66-92b3-741fced036a4",
     "showTitle": false,
     "title": ""
    }
   },
   "outputs": [
    {
     "output_type": "stream",
     "name": "stdout",
     "output_type": "stream",
     "text": [
      "Out[25]: [('Id',\n  'Study Title',\n  'Acronym',\n  'Status',\n  'Conditions',\n  'Interventions',\n  'Sponsor',\n  'Collaborators',\n  'Enrollment',\n  'Funder Type',\n  'Type',\n  'Study Design',\n  'Start',\n  'Completion'),\n ('NCT03630471',\n  'Effectiveness of a Problem-solving Intervention for Common Adolescent Mental Health Problems in India',\n  'PRIDE',\n  'COMPLETED',\n  'Mental Health Issue (E.G., Depression, Psychosis, Personality Disorder, Substance Abuse)',\n  \"BEHAVIORAL: PRIDE 'Step 1' problem-solving intervention|BEHAVIORAL: Enhanced usual care\",\n  'Sangath',\n  'Harvard Medical School (HMS and HSDM)|London School of Hygiene and Tropical Medicine',\n  '250.0',\n  'OTHER',\n  'INTERVENTIONAL',\n  'Allocation: RANDOMIZED|Intervention Model: PARALLEL|Masking: DOUBLE (INVESTIGATOR, OUTCOMES_ASSESSOR)|Primary Purpose: TREATMENT',\n  '2018-08-20',\n  '2019-02-28'),\n ('NCT05992571',\n  'Oral Ketone Monoester Supplementation and Resting-state Brain Connectivity',\n  '',\n  'RECRUITING',\n  'Cerebrovascular Function|Cognition',\n  'OTHER: Placebo|DIETARY_SUPPLEMENT: β-OHB',\n  'McMaster University',\n  \"Alzheimer's Society of Brant, Haldimand Norfolk, Hamilton Halton\",\n  '30.0',\n  'OTHER',\n  'INTERVENTIONAL',\n  'Allocation: RANDOMIZED|Intervention Model: CROSSOVER|Masking: TRIPLE (PARTICIPANT, INVESTIGATOR, OUTCOMES_ASSESSOR)|Primary Purpose: BASIC_SCIENCE',\n  '2023-10-25',\n  '2024-08'),\n ('NCT00237471',\n  'Impact of Tight Glycaemic Control in Acute Myocardial Infarction',\n  '',\n  'TERMINATED',\n  'Myocardial Infarct|Hyperglycemia',\n  'DRUG: Insulin (tight blood glucose control)',\n  'Melbourne Health',\n  'National Health and Medical Research Council, Australia|Bristol-Myers Squibb',\n  '40.0',\n  'OTHER',\n  'INTERVENTIONAL',\n  'Allocation: RANDOMIZED|Intervention Model: PARALLEL|Masking: NONE|Primary Purpose: TREATMENT',\n  '2005-10',\n  '2006-05'),\n ('NCT03820271',\n  'New Prognostic Predictive Models of Mortality of Decompensated Cirrhotic Patients Waiting for Liver Transplantation',\n  'SUPERMELD',\n  'RECRUITING',\n  'Decompensated Cirrhosis|Liver Transplantation',\n  'OTHER: SuperMELD',\n  'Assistance Publique - Hôpitaux de Paris',\n  '',\n  '500.0',\n  'OTHER',\n  'INTERVENTIONAL',\n  'Allocation: NA|Intervention Model: SINGLE_GROUP|Masking: NONE|Primary Purpose: OTHER',\n  '2020-10-01',\n  '2023-10-01')]"
     ]
    }
   ],
   "source": [
    "RDD_SetDate = RDD_Final.map(lambda row: tuple(field.replace(',', '') if i == len(row) - 1 else field for i, field in enumerate(row)))\n",
    "RDD_SetDate.take(5)"
   ]
  },
  {
   "cell_type": "code",
   "execution_count": 0,
   "metadata": {
    "application/vnd.databricks.v1+cell": {
     "cellMetadata": {
      "byteLimit": 2048000,
      "rowLimit": 10000
     },
     "inputWidgets": {},
     "nuid": "8027a27d-2215-4ba9-96cb-ca00b0382c5b",
     "showTitle": false,
     "title": ""
    }
   },
   "outputs": [
    {
     "output_type": "stream",
     "name": "stdout",
     "output_type": "stream",
     "text": [
      "Completed Studies In 2023-01 : 1494\nCompleted Studies In 2023-02 : 1272\nCompleted Studies In 2023-03 : 1552\nCompleted Studies In 2023-04 : 1324\nCompleted Studies In 2023-05 : 1415\nCompleted Studies In 2023-06 : 1619\nCompleted Studies In 2023-07 : 1360\nCompleted Studies In 2023-08 : 1230\nCompleted Studies In 2023-09 : 1152\nCompleted Studies In 2023-10 : 1058\nCompleted Studies In 2023-11 : 909\nCompleted Studies In 2023-12 : 1082\n"
     ]
    },
    {
     "output_type": "display_data",
     "data": {
      "image/png": "[encoded data removed]"
     },
     "metadata": {
      "application/vnd.databricks.v1+output": {
       "addedWidgets": {},
       "arguments": {},
       "data": "data:image/png;base64,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\n",
       "datasetInfos": [],
       "metadata": {},
       "removedWidgets": [],
       "type": "image"
      }
     },
     "output_type": "display_data"
    }
   ],
   "source": [
    "#Question Number 5\n",
    "\n",
    "month_2023 = []\n",
    "\n",
    "for month in range(1, 13):\n",
    "    month_str = \"2023-{0:02d}\".format(month)\n",
    "    month_values = (RDD_Final.filter(lambda row: len(row) > 13 and row[13] and \"COMPLETED\" in row[3] and month_str in row[13])\n",
    "    .count()\n",
    ")\n",
    "    month_2023.append(month_values)\n",
    "    print(\"Completed Studies In\" , month_str, \":\", month_values)\n",
    "\n",
    "\n",
    "months = [\"2023-{0:02d}\".format(month) for month in range(1, 13)]\n",
    "\n",
    "plt.figure(figsize=(15, 8))\n",
    "plt.bar(months, month_2023, color='cornflowerblue')\n",
    "plt.xlabel('Month')\n",
    "plt.title('Number Of Completed Studies For Each Month In 2023')\n",
    "plt.xticks(rotation=90)\n",
    "plt.show()"
   ]
  }
 ],
 "metadata": {
  "application/vnd.databricks.v1+notebook": {
   "dashboards": [],
   "language": "python",
   "notebookMetadata": {
    "mostRecentlyExecutedCommandWithImplicitDF": {
     "commandId": 1311442052395314,
     "dataframes": [
      "_sqldf"
     ]
    },
    "pythonIndentUnit": 4
   },
   "notebookName": "RDD Implementation",
   "widgets": {}
  }
 },
 "nbformat": 4,
 "nbformat_minor": 0
}
